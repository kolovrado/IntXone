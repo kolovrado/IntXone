{
 "cells": [
  {
   "cell_type": "code",
   "execution_count": 1,
   "id": "55e56cd4",
   "metadata": {},
   "outputs": [],
   "source": [
    "import numpy as np\n",
    "from PIL import Image\n",
    "import cv2\n",
    "import os    \n",
    "os.environ['KMP_DUPLICATE_LIB_OK']='True' #ошибка ОС на локальной машине\n",
    "import torch\n",
    "from torchvision import transforms, models\n",
    "from torch.utils.data import Dataset, DataLoader\n",
    "import torch.nn as nn\n",
    "import matplotlib.pyplot as plt\n",
    "import copy\n",
    "import pickle\n",
    "from tqdm import tqdm, tqdm_notebook\n",
    "from pathlib import Path, WindowsPath\n",
    "from sklearn.preprocessing import LabelEncoder\n",
    "%matplotlib inline\n",
    "import warnings\n",
    "warnings.filterwarnings(action='ignore', category=DeprecationWarning)"
   ]
  },
  {
   "cell_type": "code",
   "execution_count": 2,
   "id": "33dd4606",
   "metadata": {},
   "outputs": [],
   "source": [
    "import random\n",
    "#зануляем рандом каждый раз\n",
    "def zero_random():\n",
    "    random.seed(0)\n",
    "    np.random.seed(0)\n",
    "    torch.manual_seed(0)\n",
    "    torch.cuda.manual_seed(0)\n",
    "    torch.backends.cudnn.deterministic = True\n",
    "\n",
    "zero_random()"
   ]
  },
  {
   "cell_type": "code",
   "execution_count": 3,
   "id": "eb46465e",
   "metadata": {},
   "outputs": [
    {
     "data": {
      "text/plain": [
       "True"
      ]
     },
     "execution_count": 3,
     "metadata": {},
     "output_type": "execute_result"
    }
   ],
   "source": [
    "torch.cuda.is_available()"
   ]
  },
  {
   "cell_type": "code",
   "execution_count": 4,
   "id": "66a48367",
   "metadata": {},
   "outputs": [],
   "source": [
    "CUDA_LAUNCH_BLOCKING=1. #ошибка ОС на локальной машине"
   ]
  },
  {
   "cell_type": "code",
   "execution_count": 5,
   "id": "f908505a",
   "metadata": {},
   "outputs": [],
   "source": [
    "DATA_MODES = ['train', 'val', 'test', 'augment']\n",
    "# все изображения будут масштабированы к размеру 224x224 px\n",
    "RESCALE_SIZE = 224\n",
    "# работаем на видеокарте\n",
    "DEVICE = torch.device(\"cuda\")"
   ]
  },
  {
   "cell_type": "code",
   "execution_count": 6,
   "id": "d7c3441e",
   "metadata": {},
   "outputs": [],
   "source": [
    "class RusDataset(Dataset):\n",
    "    def __init__(self, files, mode):\n",
    "        super().__init__()\n",
    "        # список файлов для загрузки/список PIL картинок из памяти\n",
    "        if type(files[0]) == WindowsPath:\n",
    "            self.files = sorted(files)\n",
    "        else:\n",
    "            self.files = files\n",
    "        # режим работы\n",
    "        self.mode = mode\n",
    "        \n",
    "        if self.mode not in DATA_MODES:\n",
    "            print(f\"{self.mode} is not correct; correct modes: {DATA_MODES}\")\n",
    "            raise NameError\n",
    "\n",
    "        self.len_ = len(self.files)\n",
    "     \n",
    "        self.label_encoder = LabelEncoder()\n",
    "\n",
    "        if self.mode != 'test':\n",
    "            self.labels = [path.parent.name for path in self.files]\n",
    "            self.label_encoder.fit(self.labels)\n",
    "            #сохраняем label_encoder для последующей правильной расшифровки\n",
    "            with open('label_encoder.pkl', 'wb') as le_dump_file:\n",
    "                  pickle.dump(self.label_encoder, le_dump_file)\n",
    "                      \n",
    "    def __len__(self):\n",
    "        return self.len_\n",
    "      \n",
    "    def load_sample(self, file):\n",
    "        image = Image.open(file)\n",
    "        image.load()\n",
    "        return image\n",
    "  \n",
    "    def __getitem__(self, index):\n",
    "        # для преобразования изображений в тензоры PyTorch и нормализации входа\n",
    "        if self.mode in ['train', 'val']:\n",
    "            transform = transforms.Compose([transforms.ToTensor(), transforms.ToPILImage(mode=None),    \n",
    "                \n",
    "                transforms.ToTensor(),\n",
    "                transforms.Resize((224, 224)),\n",
    "                transforms.Normalize([0.485, 0.456, 0.406], [0.229, 0.224, 0.225]),\n",
    "                                           transforms.Grayscale(),\n",
    "                                           ])\n",
    "        elif self.mode == 'augment':\n",
    "            transform = transforms.Compose([transforms.ToTensor(), transforms.ToPILImage(mode=None),    \n",
    "                transforms.RandomPerspective(distortion_scale=0.3, fill = 255,p=0.5),\n",
    "                transforms.RandomRotation((-40,40), resample=False,  expand=False, fill = 255,center=None),\n",
    "                transforms.ToTensor(),\n",
    "                transforms.Resize((224, 224)),\n",
    "                transforms.Normalize([0.485, 0.456, 0.406], [0.229, 0.224, 0.225]),\n",
    "                                           ])                \n",
    "        else:\n",
    "            transform = transforms.Compose([\n",
    "                \n",
    "                transforms.ToTensor(),\n",
    "                transforms.RandomInvert(p=1),\n",
    "                transforms.CenterCrop(400), #добавляем белую рамку, лучше распознаются буквы, не примыкающие к краю изображения\n",
    "                transforms.RandomInvert(p=1),\n",
    "                transforms.Resize((224, 224)),\n",
    "                \n",
    "                transforms.Normalize([0.485, 0.456, 0.406], [0.229, 0.224, 0.225]),\n",
    "                transforms.Grayscale(),\n",
    "            ])\n",
    "        if type(self.files[index]) == WindowsPath: #различная подача результатов обработки фото и тренировочного датасета\n",
    "            x = self.load_sample(self.files[index])\n",
    "        else:\n",
    "            x = self.files[index]\n",
    "        x = self._prepare_sample(x)\n",
    "        x = np.array(x / 255, dtype='float32')\n",
    "        x = transform(x)\n",
    "        if self.mode == 'test':\n",
    "            return x\n",
    "        else:\n",
    "            label = self.labels[index]\n",
    "            label_id = self.label_encoder.transform([label])\n",
    "            y = label_id.item()\n",
    "            return x, y\n",
    "        \n",
    "    def _prepare_sample(self, image):\n",
    "        image = image.resize((RESCALE_SIZE, RESCALE_SIZE))\n",
    "        return np.array(image)"
   ]
  },
  {
   "cell_type": "code",
   "execution_count": 7,
   "id": "b67a55fb",
   "metadata": {},
   "outputs": [],
   "source": [
    "#Imshow для тензоров\n",
    "def imshow(inp, title=None, plt_ax=plt, default=False):\n",
    "    inp = inp.numpy().transpose((1, 2, 0))\n",
    "    mean = np.array([0.485, 0.456, 0.406])\n",
    "    std = np.array([0.229, 0.224, 0.225])\n",
    "    inp = std * inp + mean\n",
    "    inp = np.clip(inp, 0, 1)\n",
    "    plt_ax.imshow(inp)\n",
    "    if title is not None:\n",
    "        plt_ax.set_title(title)\n",
    "    plt_ax.grid(False)"
   ]
  },
  {
   "cell_type": "code",
   "execution_count": 8,
   "id": "c16966ae",
   "metadata": {},
   "outputs": [],
   "source": [
    "#тренировочный датасет\n",
    "TRAIN_DIR = Path('dataset/test')"
   ]
  },
  {
   "cell_type": "code",
   "execution_count": 9,
   "id": "15ca43a1",
   "metadata": {},
   "outputs": [],
   "source": [
    "#устранени е дисбаланса классов\n",
    "#находим максимальное число файлов\n",
    "mx = 0\n",
    "dir_count = {}\n",
    "for folder in os.listdir(TRAIN_DIR):\n",
    "    files = os.listdir(path=str(TRAIN_DIR)+'\\\\'+folder)\n",
    "    dir_count[folder] = len(files)\n",
    "    if len(files) > mx:\n",
    "        mx = len(files)"
   ]
  },
  {
   "cell_type": "code",
   "execution_count": 10,
   "id": "920dcd8f",
   "metadata": {},
   "outputs": [
    {
     "name": "stderr",
     "output_type": "stream",
     "text": [
      "C:\\Users\\Katerina\\anaconda3\\lib\\site-packages\\torchvision\\transforms\\transforms.py:1230: UserWarning: Argument resample is deprecated and will be removed since v0.10.0. Please, use interpolation instead\n",
      "  warnings.warn(\n",
      "C:\\Users\\Katerina\\anaconda3\\lib\\site-packages\\torchvision\\transforms\\functional.py:594: UserWarning: torch.lstsq is deprecated in favor of torch.linalg.lstsq and will be removed in a future PyTorch release.\n",
      "torch.linalg.lstsq has reversed arguments and does not return the QR decomposition in the returned tuple (although it returns other information about the problem).\n",
      "To get the qr decomposition consider using torch.linalg.qr.\n",
      "The returned solution in torch.lstsq stored the residuals of the solution in the last m - n columns of the returned value whenever m > n. In torch.linalg.lstsq, the residuals in the field 'residuals' of the returned named tuple.\n",
      "The unpacking of the solution, as in\n",
      "X, _ = torch.lstsq(B, A).solution[:A.size(1)]\n",
      "should be replaced with\n",
      "X = torch.linalg.lstsq(A, B).solution (Triggered internally at  ..\\aten\\src\\ATen\\LegacyTHFunctionsCPU.cpp:389.)\n",
      "  res = torch.lstsq(b_matrix, a_matrix)[0]\n"
     ]
    },
    {
     "name": "stdout",
     "output_type": "stream",
     "text": [
      "Ё\n",
      "А\n"
     ]
    },
    {
     "ename": "KeyboardInterrupt",
     "evalue": "",
     "output_type": "error",
     "traceback": [
      "\u001b[1;31m---------------------------------------------------------------------------\u001b[0m",
      "\u001b[1;31mKeyboardInterrupt\u001b[0m                         Traceback (most recent call last)",
      "\u001b[1;32m<ipython-input-10-f23b9dfee335>\u001b[0m in \u001b[0;36m<module>\u001b[1;34m\u001b[0m\n\u001b[0;32m      6\u001b[0m     \u001b[1;32mfor\u001b[0m \u001b[0mi\u001b[0m \u001b[1;32min\u001b[0m \u001b[0mrange\u001b[0m\u001b[1;33m(\u001b[0m\u001b[1;36m1200\u001b[0m\u001b[1;33m-\u001b[0m\u001b[0mdir_count\u001b[0m\u001b[1;33m[\u001b[0m\u001b[0mfolder\u001b[0m\u001b[1;33m]\u001b[0m\u001b[1;33m)\u001b[0m\u001b[1;33m:\u001b[0m\u001b[1;31m#добавляем столько файлов, сколько осталось до максимального числа\u001b[0m\u001b[1;33m\u001b[0m\u001b[1;33m\u001b[0m\u001b[0m\n\u001b[0;32m      7\u001b[0m         \u001b[0mrandom_characters\u001b[0m \u001b[1;33m=\u001b[0m \u001b[0mint\u001b[0m\u001b[1;33m(\u001b[0m\u001b[0mnp\u001b[0m\u001b[1;33m.\u001b[0m\u001b[0mrandom\u001b[0m\u001b[1;33m.\u001b[0m\u001b[0muniform\u001b[0m\u001b[1;33m(\u001b[0m\u001b[1;36m0\u001b[0m\u001b[1;33m,\u001b[0m\u001b[0mdir_count\u001b[0m\u001b[1;33m[\u001b[0m\u001b[0mfolder\u001b[0m\u001b[1;33m]\u001b[0m\u001b[1;33m)\u001b[0m\u001b[1;33m)\u001b[0m\u001b[1;33m\u001b[0m\u001b[1;33m\u001b[0m\u001b[0m\n\u001b[1;32m----> 8\u001b[1;33m         \u001b[0mim_val\u001b[0m\u001b[1;33m,\u001b[0m \u001b[0mlabel\u001b[0m \u001b[1;33m=\u001b[0m \u001b[0maug_dataset\u001b[0m\u001b[1;33m[\u001b[0m\u001b[0mrandom_characters\u001b[0m\u001b[1;33m]\u001b[0m\u001b[1;33m\u001b[0m\u001b[1;33m\u001b[0m\u001b[0m\n\u001b[0m\u001b[0;32m      9\u001b[0m         img_label = \" \".join(map(lambda x: x.capitalize(),\\\n\u001b[0;32m     10\u001b[0m                     aug_dataset.label_encoder.inverse_transform([label])[0].split('_')))\n",
      "\u001b[1;32m<ipython-input-6-067db7dc66f7>\u001b[0m in \u001b[0;36m__getitem__\u001b[1;34m(self, index)\u001b[0m\n\u001b[0;32m     67\u001b[0m         \u001b[1;32melse\u001b[0m\u001b[1;33m:\u001b[0m\u001b[1;33m\u001b[0m\u001b[1;33m\u001b[0m\u001b[0m\n\u001b[0;32m     68\u001b[0m             \u001b[0mx\u001b[0m \u001b[1;33m=\u001b[0m \u001b[0mself\u001b[0m\u001b[1;33m.\u001b[0m\u001b[0mfiles\u001b[0m\u001b[1;33m[\u001b[0m\u001b[0mindex\u001b[0m\u001b[1;33m]\u001b[0m\u001b[1;33m\u001b[0m\u001b[1;33m\u001b[0m\u001b[0m\n\u001b[1;32m---> 69\u001b[1;33m         \u001b[0mx\u001b[0m \u001b[1;33m=\u001b[0m \u001b[0mself\u001b[0m\u001b[1;33m.\u001b[0m\u001b[0m_prepare_sample\u001b[0m\u001b[1;33m(\u001b[0m\u001b[0mx\u001b[0m\u001b[1;33m)\u001b[0m\u001b[1;33m\u001b[0m\u001b[1;33m\u001b[0m\u001b[0m\n\u001b[0m\u001b[0;32m     70\u001b[0m         \u001b[0mx\u001b[0m \u001b[1;33m=\u001b[0m \u001b[0mnp\u001b[0m\u001b[1;33m.\u001b[0m\u001b[0marray\u001b[0m\u001b[1;33m(\u001b[0m\u001b[0mx\u001b[0m \u001b[1;33m/\u001b[0m \u001b[1;36m255\u001b[0m\u001b[1;33m,\u001b[0m \u001b[0mdtype\u001b[0m\u001b[1;33m=\u001b[0m\u001b[1;34m'float32'\u001b[0m\u001b[1;33m)\u001b[0m\u001b[1;33m\u001b[0m\u001b[1;33m\u001b[0m\u001b[0m\n\u001b[0;32m     71\u001b[0m         \u001b[0mx\u001b[0m \u001b[1;33m=\u001b[0m \u001b[0mtransform\u001b[0m\u001b[1;33m(\u001b[0m\u001b[0mx\u001b[0m\u001b[1;33m)\u001b[0m\u001b[1;33m\u001b[0m\u001b[1;33m\u001b[0m\u001b[0m\n",
      "\u001b[1;32m<ipython-input-6-067db7dc66f7>\u001b[0m in \u001b[0;36m_prepare_sample\u001b[1;34m(self, image)\u001b[0m\n\u001b[0;32m     79\u001b[0m \u001b[1;33m\u001b[0m\u001b[0m\n\u001b[0;32m     80\u001b[0m     \u001b[1;32mdef\u001b[0m \u001b[0m_prepare_sample\u001b[0m\u001b[1;33m(\u001b[0m\u001b[0mself\u001b[0m\u001b[1;33m,\u001b[0m \u001b[0mimage\u001b[0m\u001b[1;33m)\u001b[0m\u001b[1;33m:\u001b[0m\u001b[1;33m\u001b[0m\u001b[1;33m\u001b[0m\u001b[0m\n\u001b[1;32m---> 81\u001b[1;33m         \u001b[0mimage\u001b[0m \u001b[1;33m=\u001b[0m \u001b[0mimage\u001b[0m\u001b[1;33m.\u001b[0m\u001b[0mresize\u001b[0m\u001b[1;33m(\u001b[0m\u001b[1;33m(\u001b[0m\u001b[0mRESCALE_SIZE\u001b[0m\u001b[1;33m,\u001b[0m \u001b[0mRESCALE_SIZE\u001b[0m\u001b[1;33m)\u001b[0m\u001b[1;33m)\u001b[0m\u001b[1;33m\u001b[0m\u001b[1;33m\u001b[0m\u001b[0m\n\u001b[0m\u001b[0;32m     82\u001b[0m         \u001b[1;32mreturn\u001b[0m \u001b[0mnp\u001b[0m\u001b[1;33m.\u001b[0m\u001b[0marray\u001b[0m\u001b[1;33m(\u001b[0m\u001b[0mimage\u001b[0m\u001b[1;33m)\u001b[0m\u001b[1;33m\u001b[0m\u001b[1;33m\u001b[0m\u001b[0m\n",
      "\u001b[1;32m~\\anaconda3\\lib\\site-packages\\PIL\\Image.py\u001b[0m in \u001b[0;36mresize\u001b[1;34m(self, size, resample, box, reducing_gap)\u001b[0m\n\u001b[0;32m   1941\u001b[0m                 )\n\u001b[0;32m   1942\u001b[0m \u001b[1;33m\u001b[0m\u001b[0m\n\u001b[1;32m-> 1943\u001b[1;33m         \u001b[1;32mreturn\u001b[0m \u001b[0mself\u001b[0m\u001b[1;33m.\u001b[0m\u001b[0m_new\u001b[0m\u001b[1;33m(\u001b[0m\u001b[0mself\u001b[0m\u001b[1;33m.\u001b[0m\u001b[0mim\u001b[0m\u001b[1;33m.\u001b[0m\u001b[0mresize\u001b[0m\u001b[1;33m(\u001b[0m\u001b[0msize\u001b[0m\u001b[1;33m,\u001b[0m \u001b[0mresample\u001b[0m\u001b[1;33m,\u001b[0m \u001b[0mbox\u001b[0m\u001b[1;33m)\u001b[0m\u001b[1;33m)\u001b[0m\u001b[1;33m\u001b[0m\u001b[1;33m\u001b[0m\u001b[0m\n\u001b[0m\u001b[0;32m   1944\u001b[0m \u001b[1;33m\u001b[0m\u001b[0m\n\u001b[0;32m   1945\u001b[0m     \u001b[1;32mdef\u001b[0m \u001b[0mreduce\u001b[0m\u001b[1;33m(\u001b[0m\u001b[0mself\u001b[0m\u001b[1;33m,\u001b[0m \u001b[0mfactor\u001b[0m\u001b[1;33m,\u001b[0m \u001b[0mbox\u001b[0m\u001b[1;33m=\u001b[0m\u001b[1;32mNone\u001b[0m\u001b[1;33m)\u001b[0m\u001b[1;33m:\u001b[0m\u001b[1;33m\u001b[0m\u001b[1;33m\u001b[0m\u001b[0m\n",
      "\u001b[1;31mKeyboardInterrupt\u001b[0m: "
     ]
    }
   ],
   "source": [
    "# для каждой папки загружаем фото и применяем трансформации для увеличения выборки\n",
    "for folder in os.listdir(TRAIN_DIR):\n",
    "    AUG_DIR = Path('dataset\\\\test\\\\'+folder)\n",
    "    aug_files = sorted(list(AUG_DIR.rglob('*.jpeg')))\n",
    "    aug_dataset = RusDataset(aug_files, mode='augment')\n",
    "    for i in range(1200-dir_count[folder]):#добавляем столько файлов, сколько осталось до максимального числа\n",
    "        random_characters = int(np.random.uniform(0,dir_count[folder]))\n",
    "        im_val, label = aug_dataset[random_characters]\n",
    "        img_label = \" \".join(map(lambda x: x.capitalize(),\\\n",
    "                    aug_dataset.label_encoder.inverse_transform([label])[0].split('_')))\n",
    "        mean = np.array([0.485, 0.456, 0.406])#нормализация тензора\n",
    "        std = np.array([0.229, 0.224, 0.225])\n",
    "        name = Path('dataset\\\\test\\\\'+folder+'\\\\'+os.listdir(AUG_DIR)[0][:1] + str(i) +os.listdir(AUG_DIR)[0][1:])\n",
    "        plt.imsave(name, (std * im_val.data.cpu().permute(1, 2, 0).numpy()+mean).clip(0, 1))\n",
    "    print(folder) "
   ]
  },
  {
   "cell_type": "code",
   "execution_count": 10,
   "id": "a934172d",
   "metadata": {},
   "outputs": [],
   "source": [
    "#разделение на тренировочную и валидационную выборку\n",
    "train_val_files = sorted(list(TRAIN_DIR.rglob('*.jpeg')))\n",
    "from sklearn.model_selection import train_test_split\n",
    "\n",
    "train_val_labels = [path.parent.name for path in train_val_files]\n",
    "train_files, val_files = train_test_split(train_val_files, test_size=0.4, \\\n",
    "                                          stratify=train_val_labels)\n",
    "val_dataset = RusDataset(val_files, mode='val')"
   ]
  },
  {
   "cell_type": "code",
   "execution_count": 11,
   "id": "5d282d0f",
   "metadata": {},
   "outputs": [
    {
     "data": {
      "image/png": "[encoded data removed]",
      "text/plain": [
       "<Figure size 576x576 with 9 Axes>"
      ]
     },
     "metadata": {
      "needs_background": "light"
     },
     "output_type": "display_data"
    }
   ],
   "source": [
    "#проверка правильности отображения\n",
    "fig, ax = plt.subplots(nrows=3, ncols=3,figsize=(8, 8), \\\n",
    "                        sharey=True, sharex=True)\n",
    "for fig_x in ax.flatten():\n",
    "    random_characters = int(np.random.uniform(0,1000))\n",
    "    im_val, label = val_dataset[random_characters]\n",
    "    img_label = \" \".join(map(lambda x: x.capitalize(),\\\n",
    "                val_dataset.label_encoder.inverse_transform([label])[0].split('_')))\n",
    "    imshow(im_val.data.cpu(), \\\n",
    "          title=img_label,plt_ax=fig_x)"
   ]
  },
  {
   "cell_type": "code",
   "execution_count": 12,
   "id": "93905f9c",
   "metadata": {},
   "outputs": [],
   "source": [
    "# Строим сеть, 5 слоёв\n",
    "class SimpleCnn(nn.Module):\n",
    "  \n",
    "    def __init__(self, n_classes):\n",
    "        super().__init__()\n",
    "        self.conv1 = nn.Sequential(\n",
    "            nn.Conv2d(in_channels=1, out_channels=8, kernel_size=3),\n",
    "            nn.ReLU(),\n",
    "            nn.BatchNorm2d(8),\n",
    "            nn.MaxPool2d(kernel_size=2)\n",
    "            \n",
    "        )\n",
    "        self.conv2 = nn.Sequential(\n",
    "            nn.Conv2d(in_channels=8, out_channels=16, kernel_size=3),\n",
    "            nn.ReLU(),\n",
    "            nn.BatchNorm2d(16),\n",
    "            nn.MaxPool2d(kernel_size=2)\n",
    "            \n",
    "        )\n",
    "        self.conv3 = nn.Sequential(\n",
    "            nn.Conv2d(in_channels=16, out_channels=32, kernel_size=3),\n",
    "            nn.ReLU(),\n",
    "            nn.BatchNorm2d(32),\n",
    "            nn.MaxPool2d(kernel_size=2)\n",
    "            \n",
    "        )\n",
    "        self.conv4 = nn.Sequential(\n",
    "            nn.Conv2d(in_channels=32, out_channels=64, kernel_size=3),\n",
    "            nn.ReLU(),\n",
    "            nn.BatchNorm2d(64),\n",
    "            nn.MaxPool2d(kernel_size=2)\n",
    "            \n",
    "        )\n",
    "        self.conv5 = nn.Sequential(\n",
    "            nn.Conv2d(in_channels=64, out_channels=96, kernel_size=3),\n",
    "            nn.ReLU(),\n",
    "            nn.BatchNorm2d(96),\n",
    "            nn.MaxPool2d(kernel_size=2),\n",
    "            \n",
    "        )\n",
    "        self.out = nn.Linear(96 * 5 * 5, n_classes)\n",
    "  \n",
    "  \n",
    "    def forward(self, x):\n",
    "        x = self.conv1(x)\n",
    "        x = self.conv2(x)\n",
    "        x = self.conv3(x)\n",
    "        x = self.conv4(x)\n",
    "        x = self.conv5(x)\n",
    "        x = x.view(x.size(0), -1)\n",
    "        logits = self.out(x)\n",
    "        return logits"
   ]
  },
  {
   "cell_type": "code",
   "execution_count": 13,
   "id": "abe6c2bb",
   "metadata": {},
   "outputs": [],
   "source": [
    "#Эпоха обучения\n",
    "def fit_epoch(model, train_loader, criterion, optimizer):\n",
    "    running_loss = 0.0\n",
    "    running_corrects = 0\n",
    "    processed_data = 0\n",
    "  \n",
    "    for inputs, labels in train_loader:\n",
    "        inputs = inputs.to(DEVICE)\n",
    "        labels = labels.to(DEVICE)\n",
    "        optimizer.zero_grad()\n",
    "\n",
    "        outputs = model(inputs)\n",
    "        loss = criterion(outputs, labels)\n",
    "        loss.backward()\n",
    "        optimizer.step()\n",
    "        preds = torch.argmax(outputs, 1)\n",
    "        running_loss += loss.item() * inputs.size(0)\n",
    "        running_corrects += torch.sum(preds == labels.data)\n",
    "        processed_data += inputs.size(0)\n",
    "              \n",
    "    train_loss = running_loss / processed_data\n",
    "    train_acc = running_corrects.cpu().numpy() / processed_data\n",
    "    return train_loss, train_acc"
   ]
  },
  {
   "cell_type": "code",
   "execution_count": 14,
   "id": "f557e6e6",
   "metadata": {},
   "outputs": [],
   "source": [
    "#Валидация эпохи\n",
    "def eval_epoch(model, val_loader, criterion):\n",
    "    model.eval()\n",
    "    running_loss = 0.0\n",
    "    running_corrects = 0\n",
    "    processed_size = 0\n",
    "\n",
    "    for inputs, labels in val_loader:\n",
    "        inputs = inputs.to(DEVICE)\n",
    "        labels = labels.to(DEVICE)\n",
    "\n",
    "        with torch.set_grad_enabled(False):\n",
    "            outputs = model(inputs)\n",
    "            loss = criterion(outputs, labels)\n",
    "            preds = torch.argmax(outputs, 1)\n",
    "\n",
    "        running_loss += loss.item() * inputs.size(0)\n",
    "        running_corrects += torch.sum(preds == labels.data)\n",
    "        processed_size += inputs.size(0)\n",
    "    val_loss = running_loss / processed_size\n",
    "    val_acc = running_corrects.double() / processed_size\n",
    "    return val_loss, val_acc"
   ]
  },
  {
   "cell_type": "code",
   "execution_count": 15,
   "id": "a9494940",
   "metadata": {},
   "outputs": [],
   "source": [
    "#тренировка\n",
    "def train(train_files, val_files, model, epochs, batch_size):\n",
    "    train_loader = DataLoader(train_dataset, batch_size=batch_size, shuffle=True, pin_memory=True)\n",
    "    val_loader = DataLoader(val_dataset, batch_size=batch_size, pin_memory=True)\n",
    "    best_model_wts = copy.deepcopy(model.state_dict())\n",
    "    best_loss = 10.0\n",
    "    history = []\n",
    "    log_template = \"\\nEpoch {ep:03d} train_loss: {t_loss:0.4f} \\\n",
    "    val_loss {v_loss:0.4f} train_acc {t_acc:0.4f} val_acc {v_acc:0.4f}\"\n",
    "\n",
    "    with tqdm(desc=\"epoch\", total=epochs) as pbar_outer:\n",
    "        opt = torch.optim.AdamW(model.parameters(), amsgrad=True)\n",
    "        criterion = nn.CrossEntropyLoss()\n",
    "\n",
    "        for epoch in range(epochs):\n",
    "            train_loss, train_acc = fit_epoch(model, train_loader, criterion, opt)\n",
    "            print(\"loss\", train_loss)\n",
    "            \n",
    "            val_loss, val_acc = eval_epoch(model, val_loader, criterion)\n",
    "            history.append((train_loss, train_acc, val_loss, val_acc))\n",
    "            \n",
    "            pbar_outer.update(1)\n",
    "            tqdm.write(log_template.format(ep=epoch+1, t_loss=train_loss,\\\n",
    "                                           v_loss=val_loss, t_acc=train_acc, v_acc=val_acc))\n",
    "    \n",
    "                # сохраняем лучшую модель\n",
    "            if val_loss < best_loss:\n",
    "                best_loss = val_loss\n",
    "                torch.save(simple_cnn.state_dict(), \"best_model.pth\")\n",
    "    return history"
   ]
  },
  {
   "cell_type": "code",
   "execution_count": 16,
   "id": "853ca758",
   "metadata": {},
   "outputs": [],
   "source": [
    "def predict(model, test_loader):\n",
    "    with torch.no_grad():\n",
    "        logits = []\n",
    "    \n",
    "        for inputs in test_loader:\n",
    "            inputs = inputs.to(DEVICE)\n",
    "            model.eval()\n",
    "            outputs = model(inputs).cpu()\n",
    "            logits.append(outputs)\n",
    "            \n",
    "    probs = nn.functional.softmax(torch.cat(logits), dim=-1).numpy()\n",
    "    return probs"
   ]
  },
  {
   "cell_type": "code",
   "execution_count": 107,
   "id": "c31c0652",
   "metadata": {},
   "outputs": [
    {
     "name": "stderr",
     "output_type": "stream",
     "text": [
      "epoch:   0%|                                                                                    | 0/10 [00:00<?, ?it/s]C:\\Users\\Katerina\\anaconda3\\lib\\site-packages\\torch\\nn\\functional.py:718: UserWarning: Named tensors and all their associated APIs are an experimental feature and subject to change. Please do not use them for anything important until they are released as stable. (Triggered internally at  ..\\c10/core/TensorImpl.h:1156.)\n",
      "  return torch.max_pool2d(input, kernel_size, stride, padding, dilation, ceil_mode)\n"
     ]
    },
    {
     "name": "stdout",
     "output_type": "stream",
     "text": [
      "loss 0.9783891242574462\n"
     ]
    },
    {
     "name": "stderr",
     "output_type": "stream",
     "text": [
      "epoch:  10%|███████▌                                                                   | 1/10 [04:37<41:37, 277.54s/it]"
     ]
    },
    {
     "name": "stdout",
     "output_type": "stream",
     "text": [
      "\n",
      "Epoch 001 train_loss: 0.9784     val_loss 0.5078 train_acc 0.7230 val_acc 0.8499\n",
      "loss 0.3430746317878742\n"
     ]
    },
    {
     "name": "stderr",
     "output_type": "stream",
     "text": [
      "epoch:  20%|███████████████                                                            | 2/10 [07:46<30:02, 225.31s/it]"
     ]
    },
    {
     "name": "stdout",
     "output_type": "stream",
     "text": [
      "\n",
      "Epoch 002 train_loss: 0.3431     val_loss 0.3125 train_acc 0.8944 val_acc 0.9119\n",
      "loss 0.15676501639857998\n"
     ]
    },
    {
     "name": "stderr",
     "output_type": "stream",
     "text": [
      "epoch:  30%|██████████████████████▌                                                    | 3/10 [10:55<24:21, 208.85s/it]"
     ]
    },
    {
     "name": "stdout",
     "output_type": "stream",
     "text": [
      "\n",
      "Epoch 003 train_loss: 0.1568     val_loss 0.2731 train_acc 0.9506 val_acc 0.9240\n",
      "loss 0.0944116885807351\n"
     ]
    },
    {
     "name": "stderr",
     "output_type": "stream",
     "text": [
      "epoch:  40%|██████████████████████████████                                             | 4/10 [14:06<20:11, 201.97s/it]"
     ]
    },
    {
     "name": "stdout",
     "output_type": "stream",
     "text": [
      "\n",
      "Epoch 004 train_loss: 0.0944     val_loss 0.2313 train_acc 0.9696 val_acc 0.9369\n",
      "loss 0.08195005409191801\n"
     ]
    },
    {
     "name": "stderr",
     "output_type": "stream",
     "text": [
      "epoch:  50%|█████████████████████████████████████▌                                     | 5/10 [17:15<16:25, 197.08s/it]"
     ]
    },
    {
     "name": "stdout",
     "output_type": "stream",
     "text": [
      "\n",
      "Epoch 005 train_loss: 0.0820     val_loss 0.2608 train_acc 0.9732 val_acc 0.9308\n",
      "loss 0.04198041775373402\n"
     ]
    },
    {
     "name": "stderr",
     "output_type": "stream",
     "text": [
      "epoch:  60%|█████████████████████████████████████████████                              | 6/10 [20:25<12:58, 194.57s/it]"
     ]
    },
    {
     "name": "stdout",
     "output_type": "stream",
     "text": [
      "\n",
      "Epoch 006 train_loss: 0.0420     val_loss 0.2412 train_acc 0.9866 val_acc 0.9437\n",
      "loss 0.02983465894461615\n"
     ]
    },
    {
     "name": "stderr",
     "output_type": "stream",
     "text": [
      "epoch:  70%|████████████████████████████████████████████████████▌                      | 7/10 [23:37<09:41, 193.71s/it]"
     ]
    },
    {
     "name": "stdout",
     "output_type": "stream",
     "text": [
      "\n",
      "Epoch 007 train_loss: 0.0298     val_loss 0.2229 train_acc 0.9902 val_acc 0.9499\n",
      "loss 0.020428048604858137\n"
     ]
    },
    {
     "name": "stderr",
     "output_type": "stream",
     "text": [
      "epoch:  80%|████████████████████████████████████████████████████████████               | 8/10 [26:49<06:26, 193.16s/it]"
     ]
    },
    {
     "name": "stdout",
     "output_type": "stream",
     "text": [
      "\n",
      "Epoch 008 train_loss: 0.0204     val_loss 0.2154 train_acc 0.9935 val_acc 0.9508\n",
      "loss 0.008973846713187067\n"
     ]
    },
    {
     "name": "stderr",
     "output_type": "stream",
     "text": [
      "epoch:  90%|███████████████████████████████████████████████████████████████████▌       | 9/10 [30:00<03:12, 192.56s/it]"
     ]
    },
    {
     "name": "stdout",
     "output_type": "stream",
     "text": [
      "\n",
      "Epoch 009 train_loss: 0.0090     val_loss 0.2367 train_acc 0.9970 val_acc 0.9538\n",
      "loss 0.012978207345893967\n"
     ]
    },
    {
     "name": "stderr",
     "output_type": "stream",
     "text": [
      "epoch: 100%|██████████████████████████████████████████████████████████████████████████| 10/10 [33:12<00:00, 199.26s/it]"
     ]
    },
    {
     "name": "stdout",
     "output_type": "stream",
     "text": [
      "\n",
      "Epoch 010 train_loss: 0.0130     val_loss 0.2620 train_acc 0.9960 val_acc 0.9460\n"
     ]
    },
    {
     "name": "stderr",
     "output_type": "stream",
     "text": [
      "\n"
     ]
    }
   ],
   "source": [
    "#ВНИМАНИЕ!\n",
    "#тренировка. Сохраняем accuracy и lost для оценки наличия или отсутствия переобучения\n",
    "valacc = []\n",
    "valoss = []\n",
    "zero_random()\n",
    "n_classes = len(np.unique(train_val_labels))\n",
    "simple_cnn = SimpleCnn(n_classes).to(DEVICE)\n",
    "if val_dataset is None:\n",
    "    val_dataset = RusDataset(val_files, mode='val')\n",
    "train_dataset = RusDataset(train_files, mode='train')\n",
    "history = train(train_dataset, val_dataset, model=simple_cnn, epochs=10, batch_size=50)\n",
    "loss, acc, val_loss, val_acc = zip(*history)\n",
    "valacc.append(val_acc[-1].item())\n",
    "valoss.append(val_loss[0])"
   ]
  },
  {
   "cell_type": "code",
   "execution_count": null,
   "id": "b89eb1b6",
   "metadata": {},
   "outputs": [],
   "source": []
  },
  {
   "cell_type": "code",
   "execution_count": 17,
   "id": "46d59b0e",
   "metadata": {},
   "outputs": [
    {
     "data": {
      "text/plain": [
       "-1"
      ]
     },
     "execution_count": 17,
     "metadata": {},
     "output_type": "execute_result"
    }
   ],
   "source": [
    "#Открываем картинку для предсказания\n",
    "image_file = \"IMG.JPG\"\n",
    "img = cv2.imread(image_file)\n",
    "\"\"\"if max(img.shape) > 1024: #масштабирование до размеров, помещающихся в экран на данном проекте.\n",
    "    scale_in = 1024/max(img.shape)\n",
    "    img = cv2.resize(img, (int(img.shape[1] * scale_in), int(img.shape[0] * scale_in)), interpolation = cv2.INTER_AREA)\"\"\"\n",
    "gray = cv2.cvtColor(img, cv2.COLOR_BGR2GRAY)\n",
    "#порог отсечения фоновых пикселей. thresh - монохромное чёрно-белое изображение\n",
    "ret, thresh = cv2.threshold(gray, 70, 255, cv2.THRESH_BINARY)\n",
    "n1n = 10\n",
    "img_erode = cv2.erode(thresh, np.ones((n1n, n1n), np.uint8), iterations=1) #размытие для сглаживания контуров\n",
    "# находим контуры\n",
    "contours, hierarchy = cv2.findContours(img_erode, cv2.RETR_TREE, cv2.CHAIN_APPROX_NONE)\n",
    "\n",
    "output = thresh.copy()\n",
    "letters = []\n",
    "dataset_create = []\n",
    "for idx, contour in enumerate(contours): #ищем по контурам буквы\n",
    "    (x, y, w, h) = cv2.boundingRect(contour)\n",
    "    if hierarchy[0][idx][3] == 0:\n",
    "        cv2.rectangle(output, (x, y), (x + w, y + h), (70, 0, 0), 1)\n",
    "        letter_crop = thresh[y:y + h, x:x + w]\n",
    "            # приводим картинки с буквами к форме квадрата\n",
    "        size_max = max(w, h)\n",
    "        letter_square = 255 * np.ones(shape=[size_max, size_max], dtype=np.uint8)\n",
    "        if w > h:\n",
    "            # подгоняем сверху и снизу\n",
    "            y_pos = size_max//2 - h//2\n",
    "            letter_square[y_pos:y_pos + h, 0:w] = letter_crop\n",
    "        elif w < h:\n",
    "            # подгоняемм слева и справа\n",
    "            x_pos = size_max//2 - w//2\n",
    "            letter_square[0:h, x_pos:x_pos + w] = letter_crop\n",
    "        else:\n",
    "            letter_square = letter_crop\n",
    "        # изменяем размер к размеру изображений модели и поворачиваем на 90 градусов\n",
    "        out_size = 224\n",
    "        letter_square = np.rot90(letter_square, 1 )\n",
    "        letters.append((x, w, cv2.resize(letter_square, (out_size, out_size), interpolation=cv2.INTER_AREA)))\n",
    "        \n",
    "#делаем контуры букв толще и более целыми        \n",
    "for elem in letters:\n",
    "    elem = elem[-1]\n",
    "    ret, thresh = cv2.threshold(elem, 0, 255, cv2.THRESH_BINARY)\n",
    "    n1n = 20\n",
    "    elem_erode = cv2.erode(thresh, np.ones((n1n, n1n), np.uint8), iterations=1) #размытие для сглаживания контуров\n",
    "    contours, hierarchy = cv2.findContours(elem_erode, cv2.RETR_TREE, cv2.CHAIN_APPROX_NONE)\n",
    "\n",
    "    output = elem.copy()\n",
    "\n",
    "    for idx, contour in enumerate(contours):\n",
    "        (x, y, w, h) = cv2.boundingRect(contour)\n",
    "        if hierarchy[0][idx][3] == 0:\n",
    "            cv2.rectangle(output, (x, y), (x + w, y + h), (70, 0, 0), 1)\n",
    "    dataset_create.insert(0, Image.fromarray(cv2.merge((elem_erode, elem_erode, elem_erode))))\n",
    "\n",
    "cv2.waitKey(0)"
   ]
  },
  {
   "cell_type": "code",
   "execution_count": 18,
   "id": "35340cf7",
   "metadata": {},
   "outputs": [],
   "source": [
    "#Тестовый датасет\n",
    "test_files = dataset_create#sorted(list(TEST_DIR.rglob('*.jpeg')))\n",
    "test_dataset = RusDataset(test_files, mode=\"test\")\n",
    "test_loader = DataLoader(test_dataset, shuffle=False, batch_size=7)"
   ]
  },
  {
   "cell_type": "code",
   "execution_count": 19,
   "id": "57f99d6a",
   "metadata": {},
   "outputs": [
    {
     "data": {
      "image/png": "[encoded data removed]",
      "text/plain": [
       "<Figure size 576x576 with 9 Axes>"
      ]
     },
     "metadata": {
      "needs_background": "light"
     },
     "output_type": "display_data"
    }
   ],
   "source": [
    "#проверка правильности отображения\n",
    "fig, ax = plt.subplots(nrows=3, ncols=3,figsize=(8, 8), \\\n",
    "                        sharey=True, sharex=True)\n",
    "for fig_x in ax.flatten():\n",
    "    random_characters = int(np.random.uniform(0,5))\n",
    "    im_test = test_dataset[random_characters]\n",
    "    imshow(im_test.data.cpu(), \\\n",
    "          plt_ax=fig_x)"
   ]
  },
  {
   "cell_type": "code",
   "execution_count": 20,
   "id": "156f1240",
   "metadata": {},
   "outputs": [
    {
     "data": {
      "text/plain": [
       "<All keys matched successfully>"
      ]
     },
     "execution_count": 20,
     "metadata": {},
     "output_type": "execute_result"
    }
   ],
   "source": [
    "#если запускаем без обучения\n",
    "zero_random()\n",
    "n_classes = len(np.unique(train_val_labels))\n",
    "simple_cnn = SimpleCnn(n_classes).to(DEVICE)\n",
    "#загрузка лучшей модели\n",
    "simple_cnn.load_state_dict(torch.load('best_model095.pth')) #имя лучшей модели. \n",
    "#Если обучение было проведено не полностью, то best_model095.pth, иначе best_model.pth"
   ]
  },
  {
   "cell_type": "code",
   "execution_count": 21,
   "id": "0b704798",
   "metadata": {},
   "outputs": [
    {
     "name": "stderr",
     "output_type": "stream",
     "text": [
      "C:\\Users\\Katerina\\anaconda3\\lib\\site-packages\\torch\\nn\\functional.py:718: UserWarning: Named tensors and all their associated APIs are an experimental feature and subject to change. Please do not use them for anything important until they are released as stable. (Triggered internally at  ..\\c10/core/TensorImpl.h:1156.)\n",
      "  return torch.max_pool2d(input, kernel_size, stride, padding, dilation, ceil_mode)\n"
     ]
    }
   ],
   "source": [
    "#делаем предсказания, \n",
    "label_encoder = pickle.load(open(\"label_encoder.pkl\", 'rb'))\n",
    "probs = predict(simple_cnn, test_loader)\n",
    "preds = label_encoder.inverse_transform(np.argmax(probs, axis=1))"
   ]
  },
  {
   "cell_type": "code",
   "execution_count": 24,
   "id": "29e22c8b",
   "metadata": {},
   "outputs": [],
   "source": [
    "#сохраняем в текстовый файл\n",
    "with open(\"output.txt\",'w') as out_txt:\n",
    "    for elem in preds:\n",
    "        out_txt.write(elem)\n",
    "        out_txt.write(' ')"
   ]
  },
  {
   "cell_type": "code",
   "execution_count": 22,
   "id": "5455643e",
   "metadata": {},
   "outputs": [
    {
     "name": "stdout",
     "output_type": "stream",
     "text": [
      "А В Г К М Н Е "
     ]
    }
   ],
   "source": [
    "#прочитаем и здесь\n",
    "for elem in preds:\n",
    "    print(elem, end = ' ')"
   ]
  },
  {
   "cell_type": "code",
   "execution_count": null,
   "id": "dc170b88",
   "metadata": {},
   "outputs": [],
   "source": []
  }
 ],
 "metadata": {
  "kernelspec": {
   "display_name": "Python 3",
   "language": "python",
   "name": "python3"
  },
  "language_info": {
   "codemirror_mode": {
    "name": "ipython",
    "version": 3
   },
   "file_extension": ".py",
   "mimetype": "text/x-python",
   "name": "python",
   "nbconvert_exporter": "python",
   "pygments_lexer": "ipython3",
   "version": "3.8.8"
  }
 },
 "nbformat": 4,
 "nbformat_minor": 5
}
