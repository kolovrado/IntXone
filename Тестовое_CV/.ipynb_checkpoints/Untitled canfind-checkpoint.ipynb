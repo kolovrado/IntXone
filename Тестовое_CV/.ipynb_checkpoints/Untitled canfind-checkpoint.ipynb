{
 "cells": [
  {
   "cell_type": "code",
   "execution_count": 119,
   "id": "55e56cd4",
   "metadata": {},
   "outputs": [],
   "source": [
    "import numpy as np # linear algebra\n",
    "import pandas as pd # data processing, CSV file I/O (e.g. pd.read_csv)\n",
    "from PIL import Image\n",
    "import cv2\n",
    "import os    \n",
    "os.environ['KMP_DUPLICATE_LIB_OK']='True' #ошибка ОС на локальной машине\n",
    "import torch\n",
    "import numpy as np\n",
    "import torchvision\n",
    "import matplotlib.pyplot as plt\n",
    "import time\n",
    "import copy\n",
    "from torchvision import transforms, models\n",
    "import pickle\n",
    "from skimage import io\n",
    "from tqdm import tqdm, tqdm_notebook\n",
    "from PIL import Image, ImageEnhance\n",
    "from pathlib import Path\n",
    "from multiprocessing.pool import ThreadPool\n",
    "from sklearn.preprocessing import LabelEncoder\n",
    "from torch.utils.data import Dataset, DataLoader\n",
    "import torch.nn as nn\n",
    "%matplotlib inline\n",
    "import warnings\n",
    "warnings.filterwarnings(action='ignore', category=DeprecationWarning)\n"
   ]
  },
  {
   "cell_type": "code",
   "execution_count": 8,
   "id": "33dd4606",
   "metadata": {},
   "outputs": [],
   "source": [
    "import random\n",
    "#зануляем рандом каждый раз\n",
    "def zero_random():\n",
    "    random.seed(0)\n",
    "    np.random.seed(0)\n",
    "    torch.manual_seed(0)\n",
    "    torch.cuda.manual_seed(0)\n",
    "    torch.backends.cudnn.deterministic = True\n",
    "\n",
    "zero_random()"
   ]
  },
  {
   "cell_type": "code",
   "execution_count": 9,
   "id": "eb46465e",
   "metadata": {},
   "outputs": [
    {
     "data": {
      "text/plain": [
       "True"
      ]
     },
     "execution_count": 9,
     "metadata": {},
     "output_type": "execute_result"
    }
   ],
   "source": [
    "torch.cuda.is_available()"
   ]
  },
  {
   "cell_type": "code",
   "execution_count": 10,
   "id": "66a48367",
   "metadata": {},
   "outputs": [],
   "source": [
    "CUDA_LAUNCH_BLOCKING=1. #ошибка ОС на локальной машине"
   ]
  },
  {
   "cell_type": "code",
   "execution_count": 25,
   "id": "0fc7828c",
   "metadata": {},
   "outputs": [],
   "source": [
    "#Открываем картинку для предсказания\n",
    "image_file = \"1.JPG\"\n",
    "img = cv2.imread(image_file)  "
   ]
  },
  {
   "cell_type": "code",
   "execution_count": 91,
   "id": "6e61a575",
   "metadata": {},
   "outputs": [],
   "source": [
    "image_file = \"2.JPG\"\n",
    "img = cv2.imread(image_file)  "
   ]
  },
  {
   "cell_type": "code",
   "execution_count": 135,
   "id": "319689ce",
   "metadata": {},
   "outputs": [],
   "source": [
    "def enhance_im(img, en1 = 20, en2 = 1.5): # делаем изобпражение чётче\n",
    "    img = Image.fromarray(np.uint8(img))\n",
    "    enhancer1 = ImageEnhance.Sharpness(img)\n",
    "    enhancer2 = ImageEnhance.Contrast(img)\n",
    "    img_edit = enhancer1.enhance(en1)\n",
    "    img_edit = enhancer2.enhance(en2)\n",
    "    return np.asarray(img_edit)"
   ]
  },
  {
   "cell_type": "code",
   "execution_count": 136,
   "id": "76d134b3",
   "metadata": {},
   "outputs": [],
   "source": [
    "def resize(img, scale_in):\n",
    "    return cv2.resize(img, (int(img.shape[1] * scale_in), int(img.shape[0] * scale_in)), interpolation = cv2.INTER_AREA)"
   ]
  },
  {
   "cell_type": "code",
   "execution_count": 137,
   "id": "1094b46f",
   "metadata": {},
   "outputs": [
    {
     "data": {
      "text/plain": [
       "True"
      ]
     },
     "execution_count": 137,
     "metadata": {},
     "output_type": "execute_result"
    }
   ],
   "source": [
    "image_file = \"2.JPG\"\n",
    "img = cv2.imread(image_file)  \n",
    "img = resize(img, 4)\n",
    "img = enhance_im(img, 30, 6)\n",
    "#img = resize(img, 0.25)\n",
    "cv2.imwrite('path.jpg', img)\n",
    "#cv2.imshow(str(6667), img)\n",
    "#cv2.waitKey(0)  "
   ]
  },
  {
   "cell_type": "code",
   "execution_count": null,
   "id": "283943a7",
   "metadata": {},
   "outputs": [],
   "source": []
  },
  {
   "cell_type": "code",
   "execution_count": 118,
   "id": "d9883e58",
   "metadata": {},
   "outputs": [
    {
     "data": {
      "text/plain": [
       "-1"
      ]
     },
     "execution_count": 118,
     "metadata": {},
     "output_type": "execute_result"
    }
   ],
   "source": [
    "# adds more image processing capabilities\n",
    "\n",
    "# assigning an image from the source path\n",
    "img = Image.open(\"2.JPG\")\n",
    "# adding some sharpness and contrast to the image \n",
    "enhancer1 = ImageEnhance.Sharpness(img)\n",
    "enhancer2 = ImageEnhance.Contrast(img)\n",
    "img_edit = enhancer1.enhance(20.0)\n",
    "img_edit = enhancer2.enhance(1.5)\n",
    "img = np.asarray(img_edit)\n",
    "#if img.shape[0] < 200: #масштабирование до размеров, помещающихся в экран на данном проекте.\n",
    "    scale_in = 200/img.shape[0]\n",
    "    img = cv2.resize(img, (int(img.shape[1] * scale_in), int(img.shape[0] * scale_in)), interpolation = cv2.INTER_AREA)\n",
    "gray = cv2.cvtColor(img, cv2.COLOR_BGR2GRAY)\n",
    "#порог отсечения фоновых пикселей. thresh - монохромное чёрно-белое изображение\n",
    "ret, thresh = cv2.threshold(gray, 100, 255, cv2.THRESH_BINARY)\n",
    "n1n = 8\n",
    "img_erode = cv2.erode(thresh, np.ones((n1n, n1n), np.uint8), iterations=1) #размытие для сглаживания контуров\n",
    "# Get contours\n",
    "contours, hierarchy = cv2.findContours(img_erode, cv2.RETR_TREE, cv2.CHAIN_APPROX_NONE)\n",
    "\n",
    "output = img.copy()\n",
    "letters = []\n",
    "for idx, contour in enumerate(contours):\n",
    "    (x, y, w, h) = cv2.boundingRect(contour)\n",
    "    if hierarchy[0][idx][3] == 0:\n",
    "        cv2.rectangle(output, (x, y), (x + w, y + h), (0, 0, 0), 1)\n",
    "\n",
    "        letter_crop = thresh[y:y + h, x:x + w]\n",
    "        if w<300:\n",
    "            cv2.imshow(str(656), letter_crop)\n",
    "            \n",
    "    \"\"\"            # Resize letter canvas to square\n",
    "        #size_max = max(w, h)\n",
    "        letter_square = 255 * np.ones(shape=[w+1, h+1], dtype=np.uint8)\n",
    "        print(letter_square.shape)\n",
    "        if w > h:\n",
    "                # Enlarge image top-bottom\n",
    "            y_pos = size_max//2 - h//2\n",
    "            letter_square[y_pos:y_pos + h, 0:w] = letter_crop\n",
    "        elif w < h:\n",
    "                # Enlarge image left-right\n",
    "            x_pos = size_max//2 - w//2\n",
    "            letter_square[0:h, x_pos:x_pos + w] = letter_crop\n",
    "        else:\n",
    "            letter_square = letter_crop\n",
    "            # изменяем размер к размеру изображений модели\n",
    "        print(letter_square.shape)\n",
    "        letters.append((x, w, letter_square))\"\"\"\n",
    "\n",
    "#cv2.imshow(str(6666), img_erode)\n",
    "cv2.imshow(str(6667), output)\n",
    "cv2.waitKey(0)  "
   ]
  },
  {
   "cell_type": "code",
   "execution_count": 79,
   "id": "f391b7da",
   "metadata": {},
   "outputs": [
    {
     "data": {
      "text/plain": [
       "numpy.ndarray"
      ]
     },
     "execution_count": 79,
     "metadata": {},
     "output_type": "execute_result"
    }
   ],
   "source": [
    "type(letters[0][2])"
   ]
  },
  {
   "cell_type": "code",
   "execution_count": 80,
   "id": "d52d0af2",
   "metadata": {},
   "outputs": [
    {
     "data": {
      "text/plain": [
       "-1"
      ]
     },
     "execution_count": 80,
     "metadata": {},
     "output_type": "execute_result"
    }
   ],
   "source": [
    "for i in range(len(letters)):\n",
    "    cv2.imshow(str(i), letters[i][2])\n",
    "    \n",
    "cv2.waitKey(0) "
   ]
  },
  {
   "cell_type": "code",
   "execution_count": 56,
   "id": "55dc08a7",
   "metadata": {},
   "outputs": [],
   "source": [
    "img_edit.show()"
   ]
  },
  {
   "cell_type": "code",
   "execution_count": 1,
   "id": "d22d13b5",
   "metadata": {},
   "outputs": [
    {
     "ename": "NameError",
     "evalue": "name 'os' is not defined",
     "output_type": "error",
     "traceback": [
      "\u001b[1;31m---------------------------------------------------------------------------\u001b[0m",
      "\u001b[1;31mNameError\u001b[0m                                 Traceback (most recent call last)",
      "\u001b[1;32m<ipython-input-1-703cab4debac>\u001b[0m in \u001b[0;36m<module>\u001b[1;34m\u001b[0m\n\u001b[1;32m----> 1\u001b[1;33m \u001b[1;32mfor\u001b[0m \u001b[0mfile\u001b[0m \u001b[1;32min\u001b[0m \u001b[0mos\u001b[0m\u001b[1;33m.\u001b[0m\u001b[0mlistdir\u001b[0m\u001b[1;33m(\u001b[0m\u001b[1;34m'cv'\u001b[0m\u001b[1;33m)\u001b[0m\u001b[1;33m:\u001b[0m\u001b[1;33m\u001b[0m\u001b[1;33m\u001b[0m\u001b[0m\n\u001b[0m\u001b[0;32m      2\u001b[0m     \u001b[0mprint\u001b[0m\u001b[1;33m(\u001b[0m\u001b[0mfile\u001b[0m\u001b[1;33m)\u001b[0m\u001b[1;33m\u001b[0m\u001b[1;33m\u001b[0m\u001b[0m\n",
      "\u001b[1;31mNameError\u001b[0m: name 'os' is not defined"
     ]
    }
   ],
   "source": []
  },
  {
   "cell_type": "code",
   "execution_count": 99,
   "id": "e3bdfffb",
   "metadata": {},
   "outputs": [],
   "source": [
    "import pytesseract\n",
    "pytesseract.pytesseract.tesseract_cmd = r'C:\\Program Files\\Tesseract-OCR\\tesseract.exe'\n",
    "tessdata_dir_config = r'--tessdata-dir \"C:\\Program Files\\Tesseract-OCR\\tessdata\"'"
   ]
  },
  {
   "cell_type": "code",
   "execution_count": 139,
   "id": "70f94400",
   "metadata": {},
   "outputs": [
    {
     "data": {
      "text/plain": [
       "'дата:\\n\\x0c'"
      ]
     },
     "execution_count": 139,
     "metadata": {},
     "output_type": "execute_result"
    }
   ],
   "source": [
    "image_file = \"6666.jpg\"\n",
    "text = pytesseract.image_to_string(Image.open(image_file), lang= 'rus', config=tessdata_dir_config) \n",
    "text"
   ]
  },
  {
   "cell_type": "code",
   "execution_count": null,
   "id": "6eeb5582",
   "metadata": {},
   "outputs": [],
   "source": [
    "        letter_crop = thresh[y:y + h, x:x + w]\n",
    "            # Resize letter canvas to square\n",
    "        size_max = max(w, h)\n",
    "        letter_square = 255 * np.ones(shape=[size_max, size_max], dtype=np.uint8)\n",
    "        if w > h:\n",
    "            # Enlarge image top-bottom\n",
    "            y_pos = size_max//2 - h//2\n",
    "            letter_square[y_pos:y_pos + h, 0:w] = letter_crop\n",
    "        elif w < h:\n",
    "            # Enlarge image left-right\n",
    "            x_pos = size_max//2 - w//2\n",
    "            letter_square[0:h, x_pos:x_pos + w] = letter_crop\n",
    "        else:\n",
    "            letter_square = letter_crop\n",
    "        # изменяем размер к размеру изображений модели\n",
    "        out_size = 224\n",
    "        letters.append((x, w, cv2.resize(letter_square, (out_size, out_size), interpolation=cv2.INTER_AREA)))\n",
    "\n",
    "#отображаем для проверки наши буквы\n",
    "letters.reverse()\n",
    "for i in range(len(letters)):\n",
    "    cv2.imshow(str(i), letters[i][2])\n",
    "\n",
    "cv2.waitKey(0)"
   ]
  },
  {
   "cell_type": "code",
   "execution_count": null,
   "id": "7a239813",
   "metadata": {},
   "outputs": [],
   "source": []
  },
  {
   "cell_type": "code",
   "execution_count": null,
   "id": "d8b030ae",
   "metadata": {},
   "outputs": [],
   "source": []
  },
  {
   "cell_type": "code",
   "execution_count": null,
   "id": "bb6ab901",
   "metadata": {},
   "outputs": [],
   "source": []
  },
  {
   "cell_type": "code",
   "execution_count": null,
   "id": "14eef327",
   "metadata": {},
   "outputs": [],
   "source": []
  },
  {
   "cell_type": "code",
   "execution_count": null,
   "id": "69f13004",
   "metadata": {},
   "outputs": [],
   "source": []
  },
  {
   "cell_type": "code",
   "execution_count": null,
   "id": "49e9be19",
   "metadata": {},
   "outputs": [],
   "source": []
  },
  {
   "cell_type": "code",
   "execution_count": 5,
   "id": "f908505a",
   "metadata": {},
   "outputs": [],
   "source": [
    "DATA_MODES = ['train', 'val', 'test']\n",
    "# все изображения будут масштабированы к размеру 224x224 px\n",
    "RESCALE_SIZE = 224\n",
    "# работаем на видеокарте\n",
    "DEVICE = torch.device(\"cuda\")"
   ]
  },
  {
   "cell_type": "code",
   "execution_count": 6,
   "id": "d7c3441e",
   "metadata": {},
   "outputs": [],
   "source": [
    "class RusDataset(Dataset):\n",
    "    \"\"\"\n",
    "    Датасет с картинками, который паралельно подгружает их из папок\n",
    "    производит скалирование и превращение в торчевые тензоры\n",
    "    \"\"\"\n",
    "    def __init__(self, files, mode):\n",
    "        super().__init__()\n",
    "        # список файлов для загрузки\n",
    "        self.files = sorted(files)\n",
    "        # режим работы\n",
    "        self.mode = mode\n",
    "\n",
    "        if self.mode not in DATA_MODES:\n",
    "            print(f\"{self.mode} is not correct; correct modes: {DATA_MODES}\")\n",
    "            raise NameError\n",
    "\n",
    "        self.len_ = len(self.files)\n",
    "     \n",
    "        self.label_encoder = LabelEncoder()\n",
    "\n",
    "        if self.mode != 'test':\n",
    "            self.labels = [path.parent.name for path in self.files]\n",
    "            self.label_encoder.fit(self.labels)\n",
    "            #сохраняем label_encoder для последующей правильной расшифровки\n",
    "            with open('label_encoder.pkl', 'wb') as le_dump_file:\n",
    "                  pickle.dump(self.label_encoder, le_dump_file)\n",
    "                      \n",
    "    def __len__(self):\n",
    "        return self.len_\n",
    "      \n",
    "    def load_sample(self, file):\n",
    "        image = Image.open(file)\n",
    "        image.load()\n",
    "        return image\n",
    "  \n",
    "    def __getitem__(self, index):\n",
    "        # для преобразования изображений в тензоры PyTorch и нормализации входа\n",
    "        transforms_list = [transforms.RandomHorizontalFlip(p=0.5),\n",
    "                transforms.RandomRotation((-90,90), resample=False, expand=False, center=None),\n",
    "                transforms.RandomPerspective(distortion_scale=0.5, p=0.5, interpolation=3),\n",
    "                transforms.RandomVerticalFlip(p=0.5), \n",
    "                          ]\n",
    "        if self.mode == 'train':\n",
    "            transform = transforms.Compose([transforms.ToTensor(), transforms.ToPILImage(mode=None),    \n",
    "                transforms.RandomChoice(transforms_list),\n",
    "\n",
    "                transforms.ToTensor(),\n",
    "                                            transforms.Resize((28, 28)),\n",
    "                transforms.Resize((224, 224)),\n",
    "                transforms.Normalize([0.485, 0.456, 0.406], [0.229, 0.224, 0.225]),\n",
    "                                           transforms.Grayscale(),\n",
    "                                           ])\n",
    "                \n",
    "        else:\n",
    "            transform = transforms.Compose([\n",
    "                transforms.ToTensor(),\n",
    "                transforms.Resize((28, 28)),\n",
    "                transforms.Resize((224, 224)),\n",
    "                \n",
    "                transforms.Normalize([0.485, 0.456, 0.406], [0.229, 0.224, 0.225]),\n",
    "                transforms.Grayscale(),\n",
    "            ])\n",
    "        x = self.load_sample(self.files[index])\n",
    "        x = self._prepare_sample(x)\n",
    "        x = np.array(x / 255, dtype='float32')\n",
    "        x = transform(x)\n",
    "        if self.mode == 'test':\n",
    "            return x\n",
    "        #попробуем цикл, в котором \n",
    "        else:\n",
    "            label = self.labels[index]\n",
    "            label_id = self.label_encoder.transform([label])\n",
    "            y = label_id.item()\n",
    "            return x, y\n",
    "        \n",
    "    def _prepare_sample(self, image):\n",
    "        image = image.resize((RESCALE_SIZE, RESCALE_SIZE))\n",
    "        return np.array(image)"
   ]
  },
  {
   "cell_type": "code",
   "execution_count": 7,
   "id": "b67a55fb",
   "metadata": {},
   "outputs": [],
   "source": [
    "#Imshow для тензоров\n",
    "def imshow(inp, title=None, plt_ax=plt, default=False):\n",
    "    inp = inp.numpy().transpose((1, 2, 0))\n",
    "    mean = np.array([0.485, 0.456, 0.406])\n",
    "    std = np.array([0.229, 0.224, 0.225])\n",
    "    inp = std * inp + mean\n",
    "    inp = np.clip(inp, 0, 1)\n",
    "    plt_ax.imshow(inp)\n",
    "    if title is not None:\n",
    "        plt_ax.set_title(title)\n",
    "    plt_ax.grid(False)"
   ]
  },
  {
   "cell_type": "code",
   "execution_count": 8,
   "id": "c16966ae",
   "metadata": {},
   "outputs": [],
   "source": [
    "#тренировочный датасет\n",
    "TRAIN_DIR = Path('dataset/test')\n",
    "train_val_files = sorted(list(TRAIN_DIR.rglob('*.jpeg')))"
   ]
  },
  {
   "cell_type": "code",
   "execution_count": 9,
   "id": "a934172d",
   "metadata": {},
   "outputs": [],
   "source": [
    "#разделение на тренировочную и валидационную выборку\n",
    "from sklearn.model_selection import train_test_split\n",
    "\n",
    "train_val_labels = [path.parent.name for path in train_val_files]\n",
    "train_files, val_files = train_test_split(train_val_files, test_size=0.4, \\\n",
    "                                          stratify=train_val_labels)\n",
    "val_dataset = RusDataset(val_files, mode='val')"
   ]
  },
  {
   "cell_type": "code",
   "execution_count": 10,
   "id": "5d282d0f",
   "metadata": {},
   "outputs": [
    {
     "name": "stderr",
     "output_type": "stream",
     "text": [
      "C:\\Users\\Katerina\\anaconda3\\lib\\site-packages\\torchvision\\transforms\\transforms.py:1230: UserWarning: Argument resample is deprecated and will be removed since v0.10.0. Please, use interpolation instead\n",
      "  warnings.warn(\n",
      "C:\\Users\\Katerina\\anaconda3\\lib\\site-packages\\torchvision\\transforms\\transforms.py:715: UserWarning: Argument interpolation should be of type InterpolationMode instead of int. Please, use InterpolationMode enum.\n",
      "  warnings.warn(\n"
     ]
    },
    {
     "data": {
      "image/png": "[encoded data removed]",
      "text/plain": [
       "<Figure size 576x576 with 9 Axes>"
      ]
     },
     "metadata": {
      "needs_background": "light"
     },
     "output_type": "display_data"
    }
   ],
   "source": [
    "#проверка правильности отображения\n",
    "fig, ax = plt.subplots(nrows=3, ncols=3,figsize=(8, 8), \\\n",
    "                        sharey=True, sharex=True)\n",
    "for fig_x in ax.flatten():\n",
    "    random_characters = int(np.random.uniform(0,1000))\n",
    "    im_val, label = val_dataset[random_characters]\n",
    "    img_label = \" \".join(map(lambda x: x.capitalize(),\\\n",
    "                val_dataset.label_encoder.inverse_transform([label])[0].split('_')))\n",
    "    imshow(im_val.data.cpu(), \\\n",
    "          title=img_label,plt_ax=fig_x)"
   ]
  },
  {
   "cell_type": "code",
   "execution_count": 11,
   "id": "93905f9c",
   "metadata": {},
   "outputs": [],
   "source": [
    "# Строим сеть\n",
    "class SimpleCnn(nn.Module):\n",
    "  \n",
    "    def __init__(self, n_classes):\n",
    "        super().__init__()\n",
    "        self.conv1 = nn.Sequential(\n",
    "            nn.Conv2d(in_channels=1, out_channels=8, kernel_size=3),\n",
    "            nn.ReLU(),\n",
    "            nn.BatchNorm2d(8),\n",
    "            nn.MaxPool2d(kernel_size=2)\n",
    "            \n",
    "        )\n",
    "        self.conv2 = nn.Sequential(\n",
    "            nn.Conv2d(in_channels=8, out_channels=16, kernel_size=3),\n",
    "            nn.ReLU(),\n",
    "            nn.BatchNorm2d(16),\n",
    "            #nn.Dropout2d(p=0.3),\n",
    "            nn.MaxPool2d(kernel_size=2)\n",
    "            \n",
    "        )\n",
    "        self.conv3 = nn.Sequential(\n",
    "            nn.Conv2d(in_channels=16, out_channels=32, kernel_size=3),\n",
    "            nn.ReLU(),\n",
    "            nn.BatchNorm2d(32),\n",
    "            #nn.Dropout2d(p=0.3),\n",
    "            nn.MaxPool2d(kernel_size=2)\n",
    "            \n",
    "        )\n",
    "        self.conv4 = nn.Sequential(\n",
    "            nn.Conv2d(in_channels=32, out_channels=64, kernel_size=3),\n",
    "            nn.ReLU(),\n",
    "            nn.BatchNorm2d(64),\n",
    "            #nn.Dropout2d(p=0.3),\n",
    "            nn.MaxPool2d(kernel_size=2)\n",
    "            \n",
    "        )\n",
    "        self.conv5 = nn.Sequential(\n",
    "            nn.Conv2d(in_channels=64, out_channels=96, kernel_size=3),\n",
    "            nn.ReLU(),\n",
    "            nn.BatchNorm2d(96),\n",
    "            #nn.Dropout2d(p=0.3),\n",
    "            nn.MaxPool2d(kernel_size=2),\n",
    "            \n",
    "        )\n",
    "        \n",
    "        \n",
    "        self.out = nn.Linear(96 * 5 * 5, n_classes)\n",
    "  \n",
    "  \n",
    "    def forward(self, x):\n",
    "        x = self.conv1(x)\n",
    "        x = self.conv2(x)\n",
    "        x = self.conv3(x)\n",
    "        x = self.conv4(x)\n",
    "        x = self.conv5(x)\n",
    "        x = x.view(x.size(0), -1)\n",
    "        logits = self.out(x)\n",
    "        return logits"
   ]
  },
  {
   "cell_type": "code",
   "execution_count": 12,
   "id": "abe6c2bb",
   "metadata": {},
   "outputs": [],
   "source": [
    "#Эпоха обучения\n",
    "def fit_epoch(model, train_loader, criterion, optimizer):\n",
    "    running_loss = 0.0\n",
    "    running_corrects = 0\n",
    "    processed_data = 0\n",
    "  \n",
    "    for inputs, labels in train_loader:\n",
    "        inputs = inputs.to(DEVICE)\n",
    "        labels = labels.to(DEVICE)\n",
    "        optimizer.zero_grad()\n",
    "\n",
    "        outputs = model(inputs)\n",
    "        loss = criterion(outputs, labels)\n",
    "        loss.backward()\n",
    "        optimizer.step()\n",
    "        preds = torch.argmax(outputs, 1)\n",
    "        running_loss += loss.item() * inputs.size(0)\n",
    "        running_corrects += torch.sum(preds == labels.data)\n",
    "        processed_data += inputs.size(0)\n",
    "              \n",
    "    train_loss = running_loss / processed_data\n",
    "    train_acc = running_corrects.cpu().numpy() / processed_data\n",
    "    return train_loss, train_acc"
   ]
  },
  {
   "cell_type": "code",
   "execution_count": 13,
   "id": "f557e6e6",
   "metadata": {},
   "outputs": [],
   "source": [
    "#Валидация эпохи\n",
    "def eval_epoch(model, val_loader, criterion):\n",
    "    model.eval()\n",
    "    running_loss = 0.0\n",
    "    running_corrects = 0\n",
    "    processed_size = 0\n",
    "\n",
    "    for inputs, labels in val_loader:\n",
    "        inputs = inputs.to(DEVICE)\n",
    "        labels = labels.to(DEVICE)\n",
    "\n",
    "        with torch.set_grad_enabled(False):\n",
    "            outputs = model(inputs)\n",
    "            loss = criterion(outputs, labels)\n",
    "            preds = torch.argmax(outputs, 1)\n",
    "\n",
    "        running_loss += loss.item() * inputs.size(0)\n",
    "        running_corrects += torch.sum(preds == labels.data)\n",
    "        processed_size += inputs.size(0)\n",
    "    val_loss = running_loss / processed_size\n",
    "    val_acc = running_corrects.double() / processed_size\n",
    "    return val_loss, val_acc"
   ]
  },
  {
   "cell_type": "code",
   "execution_count": 14,
   "id": "a9494940",
   "metadata": {},
   "outputs": [],
   "source": [
    "#тренировка\n",
    "def train(train_files, val_files, model, epochs, batch_size):\n",
    "    #train_loader = DataLoader(train_dataset, batch_size=batch_size, shuffle=True, num_workers=4, pin_memory=True)\n",
    "    #val_loader = DataLoader(val_dataset, batch_size=batch_size, shuffle=False, num_workers=4, pin_memory=True)\n",
    "    \n",
    "    train_loader = DataLoader(train_dataset, batch_size=batch_size, shuffle=True, pin_memory=True)\n",
    "    val_loader = DataLoader(val_dataset, batch_size=batch_size, pin_memory=True)\n",
    "    best_model_wts = copy.deepcopy(model.state_dict())\n",
    "    best_loss = 10.0\n",
    "    history = []\n",
    "    log_template = \"\\nEpoch {ep:03d} train_loss: {t_loss:0.4f} \\\n",
    "    val_loss {v_loss:0.4f} train_acc {t_acc:0.4f} val_acc {v_acc:0.4f}\"\n",
    "\n",
    "    with tqdm(desc=\"epoch\", total=epochs) as pbar_outer:\n",
    "        opt = torch.optim.AdamW(model.parameters(), amsgrad=True)\n",
    "        criterion = nn.CrossEntropyLoss()\n",
    "\n",
    "        for epoch in range(epochs):\n",
    "            train_loss, train_acc = fit_epoch(model, train_loader, criterion, opt)\n",
    "            print(\"loss\", train_loss)\n",
    "            \n",
    "            val_loss, val_acc = eval_epoch(model, val_loader, criterion)\n",
    "            history.append((train_loss, train_acc, val_loss, val_acc))\n",
    "            \n",
    "            pbar_outer.update(1)\n",
    "            tqdm.write(log_template.format(ep=epoch+1, t_loss=train_loss,\\\n",
    "                                           v_loss=val_loss, t_acc=train_acc, v_acc=val_acc))\n",
    "    \n",
    "                # deep copy the model\n",
    "            if val_loss < best_loss:\n",
    "                best_loss = val_loss\n",
    "                torch.save(simple_cnn.state_dict(), \"best_model.pth\")\n",
    "    return history"
   ]
  },
  {
   "cell_type": "code",
   "execution_count": 15,
   "id": "853ca758",
   "metadata": {},
   "outputs": [],
   "source": [
    "def predict(model, test_loader):\n",
    "    with torch.no_grad():\n",
    "        logits = []\n",
    "    \n",
    "        for inputs in test_loader:\n",
    "            inputs = inputs.to(DEVICE)\n",
    "            model.eval()\n",
    "            outputs = model(inputs).cpu()\n",
    "            logits.append(outputs)\n",
    "            \n",
    "    probs = nn.functional.softmax(torch.cat(logits), dim=-1).numpy()\n",
    "    return probs"
   ]
  },
  {
   "cell_type": "code",
   "execution_count": 16,
   "id": "c31c0652",
   "metadata": {},
   "outputs": [
    {
     "name": "stderr",
     "output_type": "stream",
     "text": [
      "epoch:   0%|                                                                                    | 0/10 [00:00<?, ?it/s]C:\\Users\\Katerina\\anaconda3\\lib\\site-packages\\torchvision\\transforms\\functional.py:594: UserWarning: torch.lstsq is deprecated in favor of torch.linalg.lstsq and will be removed in a future PyTorch release.\n",
      "torch.linalg.lstsq has reversed arguments and does not return the QR decomposition in the returned tuple (although it returns other information about the problem).\n",
      "To get the qr decomposition consider using torch.linalg.qr.\n",
      "The returned solution in torch.lstsq stored the residuals of the solution in the last m - n columns of the returned value whenever m > n. In torch.linalg.lstsq, the residuals in the field 'residuals' of the returned named tuple.\n",
      "The unpacking of the solution, as in\n",
      "X, _ = torch.lstsq(B, A).solution[:A.size(1)]\n",
      "should be replaced with\n",
      "X = torch.linalg.lstsq(A, B).solution (Triggered internally at  ..\\aten\\src\\ATen\\LegacyTHFunctionsCPU.cpp:389.)\n",
      "  res = torch.lstsq(b_matrix, a_matrix)[0]\n",
      "C:\\Users\\Katerina\\anaconda3\\lib\\site-packages\\torch\\nn\\functional.py:718: UserWarning: Named tensors and all their associated APIs are an experimental feature and subject to change. Please do not use them for anything important until they are released as stable. (Triggered internally at  ..\\c10/core/TensorImpl.h:1156.)\n",
      "  return torch.max_pool2d(input, kernel_size, stride, padding, dilation, ceil_mode)\n"
     ]
    },
    {
     "name": "stdout",
     "output_type": "stream",
     "text": [
      "loss 2.1148289353875653\n"
     ]
    },
    {
     "name": "stderr",
     "output_type": "stream",
     "text": [
      "epoch:  10%|███████▌                                                                   | 1/10 [04:49<43:24, 289.37s/it]"
     ]
    },
    {
     "name": "stdout",
     "output_type": "stream",
     "text": [
      "\n",
      "Epoch 001 train_loss: 2.1148     val_loss 1.0026 train_acc 0.4313 val_acc 0.7054\n",
      "loss 1.3026323373878879\n"
     ]
    },
    {
     "name": "stderr",
     "output_type": "stream",
     "text": [
      "epoch:  20%|███████████████                                                            | 2/10 [07:48<29:55, 224.42s/it]"
     ]
    },
    {
     "name": "stdout",
     "output_type": "stream",
     "text": [
      "\n",
      "Epoch 002 train_loss: 1.3026     val_loss 0.6304 train_acc 0.6279 val_acc 0.8077\n",
      "loss 0.9853182214943197\n"
     ]
    },
    {
     "name": "stderr",
     "output_type": "stream",
     "text": [
      "epoch:  30%|██████████████████████▌                                                    | 3/10 [10:44<23:37, 202.52s/it]"
     ]
    },
    {
     "name": "stdout",
     "output_type": "stream",
     "text": [
      "\n",
      "Epoch 003 train_loss: 0.9853     val_loss 0.4622 train_acc 0.7119 val_acc 0.8561\n",
      "loss 0.8162540938500272\n"
     ]
    },
    {
     "name": "stderr",
     "output_type": "stream",
     "text": [
      "epoch:  40%|██████████████████████████████                                             | 4/10 [13:49<19:33, 195.57s/it]"
     ]
    },
    {
     "name": "stdout",
     "output_type": "stream",
     "text": [
      "\n",
      "Epoch 004 train_loss: 0.8163     val_loss 0.4482 train_acc 0.7615 val_acc 0.8646\n",
      "loss 0.7335493106379098\n"
     ]
    },
    {
     "name": "stderr",
     "output_type": "stream",
     "text": [
      "epoch:  50%|█████████████████████████████████████▌                                     | 5/10 [16:46<15:44, 188.81s/it]"
     ]
    },
    {
     "name": "stdout",
     "output_type": "stream",
     "text": [
      "\n",
      "Epoch 005 train_loss: 0.7335     val_loss 0.3328 train_acc 0.7838 val_acc 0.8971\n",
      "loss 0.6496896552728127\n"
     ]
    },
    {
     "name": "stderr",
     "output_type": "stream",
     "text": [
      "epoch:  60%|█████████████████████████████████████████████                              | 6/10 [19:38<12:12, 183.02s/it]"
     ]
    },
    {
     "name": "stdout",
     "output_type": "stream",
     "text": [
      "\n",
      "Epoch 006 train_loss: 0.6497     val_loss 0.3051 train_acc 0.8057 val_acc 0.9023\n",
      "loss 0.5960658389332905\n"
     ]
    },
    {
     "name": "stderr",
     "output_type": "stream",
     "text": [
      "epoch:  70%|████████████████████████████████████████████████████▌                      | 7/10 [22:29<08:57, 179.04s/it]"
     ]
    },
    {
     "name": "stdout",
     "output_type": "stream",
     "text": [
      "\n",
      "Epoch 007 train_loss: 0.5961     val_loss 0.3402 train_acc 0.8182 val_acc 0.8925\n",
      "loss 0.5611918299484421\n"
     ]
    },
    {
     "name": "stderr",
     "output_type": "stream",
     "text": [
      "epoch:  80%|████████████████████████████████████████████████████████████               | 8/10 [25:22<05:54, 177.37s/it]"
     ]
    },
    {
     "name": "stdout",
     "output_type": "stream",
     "text": [
      "\n",
      "Epoch 008 train_loss: 0.5612     val_loss 0.2697 train_acc 0.8343 val_acc 0.9146\n",
      "loss 0.5111940398613911\n"
     ]
    },
    {
     "name": "stderr",
     "output_type": "stream",
     "text": [
      "epoch:  90%|███████████████████████████████████████████████████████████████████▌       | 9/10 [28:14<02:55, 175.68s/it]"
     ]
    },
    {
     "name": "stdout",
     "output_type": "stream",
     "text": [
      "\n",
      "Epoch 009 train_loss: 0.5112     val_loss 0.2601 train_acc 0.8473 val_acc 0.9182\n",
      "loss 0.49570194897292186\n"
     ]
    },
    {
     "name": "stderr",
     "output_type": "stream",
     "text": [
      "epoch: 100%|██████████████████████████████████████████████████████████████████████████| 10/10 [31:05<00:00, 186.51s/it]"
     ]
    },
    {
     "name": "stdout",
     "output_type": "stream",
     "text": [
      "\n",
      "Epoch 010 train_loss: 0.4957     val_loss 0.2396 train_acc 0.8498 val_acc 0.9239\n"
     ]
    },
    {
     "name": "stderr",
     "output_type": "stream",
     "text": [
      "\n"
     ]
    }
   ],
   "source": [
    "#тренировка. Сохраняем accuracy и lost для оценки наличия или отсутствия переобучения\n",
    "valacc = []\n",
    "valoss = []\n",
    "zero_random()\n",
    "n_classes = len(np.unique(train_val_labels))\n",
    "simple_cnn = SimpleCnn(n_classes).to(DEVICE)\n",
    "if val_dataset is None:\n",
    "    val_dataset = RusDataset(val_files, mode='val')\n",
    "train_dataset = RusDataset(train_files, mode='train')\n",
    "history = train(train_dataset, val_dataset, model=simple_cnn, epochs=10, batch_size=50)\n",
    "loss, acc, val_loss, val_acc = zip(*history)\n",
    "valacc.append(val_acc[-1].item())\n",
    "valoss.append(val_loss[0])"
   ]
  },
  {
   "cell_type": "code",
   "execution_count": null,
   "id": "b89eb1b6",
   "metadata": {},
   "outputs": [],
   "source": []
  },
  {
   "cell_type": "code",
   "execution_count": null,
   "id": "46d59b0e",
   "metadata": {},
   "outputs": [],
   "source": [
    "#Открываем картинку для предсказания\n",
    "image_file = \"IMG.JPG\"\n",
    "img = cv2.imread(image_file)\n",
    "\"\"\"if max(img.shape) > 1024: #масштабирование до размеров, помещающихся в экран на данном проекте.\n",
    "    scale_in = 1024/max(img.shape)\n",
    "    img = cv2.resize(img, (int(img.shape[1] * scale_in), int(img.shape[0] * scale_in)), interpolation = cv2.INTER_AREA)\"\"\"\n",
    "gray = cv2.cvtColor(img, cv2.COLOR_BGR2GRAY)\n",
    "#порог отсечения фоновых пикселей. thresh - монохромное чёрно-белое изображение\n",
    "ret, thresh = cv2.threshold(gray, 70, 255, cv2.THRESH_BINARY)\n",
    "n1n = 10\n",
    "img_erode = cv2.erode(thresh, np.ones((nn, nn), np.uint8), iterations=1) #размытие для сглаживания контуров\n",
    "# Get contours\n",
    "contours, hierarchy = cv2.findContours(img_erode, cv2.RETR_TREE, cv2.CHAIN_APPROX_NONE)\n",
    "\n",
    "output = thresh.copy()\n",
    "letters = []\n",
    "for idx, contour in enumerate(contours):\n",
    "    (x, y, w, h) = cv2.boundingRect(contour)\n",
    "    if hierarchy[0][idx][3] == 0:\n",
    "        cv2.rectangle(output, (x, y), (x + w, y + h), (70, 0, 0), 1)\n",
    "        letter_crop = thresh[y:y + h, x:x + w]\n",
    "            # Resize letter canvas to square\n",
    "        size_max = max(w, h)\n",
    "        letter_square = 255 * np.ones(shape=[size_max, size_max], dtype=np.uint8)\n",
    "        if w > h:\n",
    "            # Enlarge image top-bottom\n",
    "            y_pos = size_max//2 - h//2\n",
    "            letter_square[y_pos:y_pos + h, 0:w] = letter_crop\n",
    "        elif w < h:\n",
    "            # Enlarge image left-right\n",
    "            x_pos = size_max//2 - w//2\n",
    "            letter_square[0:h, x_pos:x_pos + w] = letter_crop\n",
    "        else:\n",
    "            letter_square = letter_crop\n",
    "        # изменяем размер к размеру изображений модели\n",
    "        out_size = 224\n",
    "        letters.append((x, w, cv2.resize(letter_square, (out_size, out_size), interpolation=cv2.INTER_AREA)))\n",
    "\n",
    "#отображаем для проверки наши буквы\n",
    "letters.reverse()\n",
    "for i in range(len(letters)):\n",
    "    cv2.imshow(str(i), letters[i][2])\n",
    "\n",
    "cv2.waitKey(0)"
   ]
  },
  {
   "cell_type": "code",
   "execution_count": null,
   "id": "99336d81",
   "metadata": {},
   "outputs": [],
   "source": [
    "#сохраняем буквы по порядку, поворачивая их на 90 градусов, конвертируем в rgb для корректной работы dataloader\n",
    "os.makedirs('temp')\n",
    "for i in range(len(letters)):\n",
    "    img_out = cv2.merge((letters[i][2],letters[i][2],letters[i][2]))\n",
    "    Image.fromarray(np.rot90(img_out, 1)).save('temp/'+str(i)+'.jpeg')"
   ]
  },
  {
   "cell_type": "code",
   "execution_count": 17,
   "id": "35340cf7",
   "metadata": {},
   "outputs": [],
   "source": [
    "#Тестовый датасет\n",
    "TEST_DIR = Path('temp')\n",
    "test_files = sorted(list(TEST_DIR.rglob('*.jpeg')))\n",
    "test_dataset = RusDataset(test_files, mode=\"test\")\n",
    "test_loader = DataLoader(test_dataset, shuffle=False, batch_size=7)"
   ]
  },
  {
   "cell_type": "code",
   "execution_count": 23,
   "id": "57f99d6a",
   "metadata": {},
   "outputs": [
    {
     "data": {
      "image/png": "[encoded data removed]",
      "text/plain": [
       "<Figure size 576x576 with 9 Axes>"
      ]
     },
     "metadata": {
      "needs_background": "light"
     },
     "output_type": "display_data"
    }
   ],
   "source": [
    "#проверка правильности отображения\n",
    "fig, ax = plt.subplots(nrows=3, ncols=3,figsize=(8, 8), \\\n",
    "                        sharey=True, sharex=True)\n",
    "for fig_x in ax.flatten():\n",
    "    random_characters = int(np.random.uniform(0,7))\n",
    "    im_test = test_dataset[random_characters]\n",
    "    imshow(im_test.data.cpu(), \\\n",
    "          plt_ax=fig_x)"
   ]
  },
  {
   "cell_type": "code",
   "execution_count": 25,
   "id": "0b704798",
   "metadata": {},
   "outputs": [],
   "source": [
    "#делаем предсказания, \n",
    "label_encoder = pickle.load(open(\"label_encoder.pkl\", 'rb'))\n",
    "probs = predict(simple_cnn, test_loader)\n",
    "preds = label_encoder.inverse_transform(np.argmax(probs, axis=1))\n",
    "test_filenames = [path.name for path in test_dataset.files]\n",
    "#if os.path.exixst('temp/'):\n",
    "    #os.remove('temp/')"
   ]
  },
  {
   "cell_type": "code",
   "execution_count": 29,
   "id": "62eff999",
   "metadata": {},
   "outputs": [
    {
     "data": {
      "text/plain": [
       "(array(['Н', 'Р', 'Г', 'К', 'К', 'Н', 'Ё'], dtype='<U1'),\n",
       " ['0.jpeg', '1.jpeg', '2.jpeg', '3.jpeg', '4.jpeg', '5.jpeg', '6.jpeg'])"
      ]
     },
     "execution_count": 29,
     "metadata": {},
     "output_type": "execute_result"
    }
   ],
   "source": [
    "preds, test_filenames"
   ]
  },
  {
   "cell_type": "code",
   "execution_count": 33,
   "id": "29e22c8b",
   "metadata": {},
   "outputs": [],
   "source": [
    "#сохраняем в текстовый файл\n",
    "with open(\"output.txt\",'w') as out_txt:\n",
    "    for elem in preds:\n",
    "        out_txt.write(elem)\n",
    "        out_txt.write(' ')"
   ]
  },
  {
   "cell_type": "code",
   "execution_count": null,
   "id": "51b614d5",
   "metadata": {},
   "outputs": [],
   "source": []
  },
  {
   "cell_type": "code",
   "execution_count": 30,
   "id": "5455643e",
   "metadata": {},
   "outputs": [
    {
     "name": "stdout",
     "output_type": "stream",
     "text": [
      "НРГККНЁ"
     ]
    }
   ],
   "source": [
    "for elem in preds:\n",
    "    print(elem, end = ' ')"
   ]
  },
  {
   "cell_type": "code",
   "execution_count": null,
   "id": "6a9e84af",
   "metadata": {},
   "outputs": [],
   "source": []
  },
  {
   "cell_type": "code",
   "execution_count": 112,
   "id": "3ddcb32d",
   "metadata": {},
   "outputs": [
    {
     "name": "stdout",
     "output_type": "stream",
     "text": [
      "136 462 4 4\n",
      "84 461 6 5\n",
      "136 455 5 5\n",
      "127 455 9 11\n",
      "119 455 9 11\n",
      "110 455 9 11\n",
      "80 455 31 14\n",
      "69 455 12 11\n",
      "59 453 12 13\n",
      "319 443 670 40\n",
      "114 417 4 7\n",
      "126 415 11 11\n",
      "118 415 9 11\n",
      "109 415 5 8\n",
      "92 415 19 14\n",
      "78 415 15 11\n",
      "58 412 21 17\n",
      "319 401 670 39\n",
      "649 398 9 4\n",
      "646 398 4 4\n",
      "686 389 5 5\n",
      "131 389 4 5\n",
      "706 388 5 6\n",
      "115 383 20 11\n",
      "638 379 12 15\n",
      "625 379 13 15\n",
      "613 379 12 15\n",
      "599 379 14 15\n",
      "59 379 57 18\n",
      "691 376 16 18\n",
      "671 376 14 18\n",
      "585 375 14 19\n",
      "319 364 670 40\n",
      "165 351 9 11\n",
      "151 351 10 11\n",
      "143 351 9 11\n",
      "135 351 9 11\n",
      "103 351 33 13\n",
      "69 351 35 11\n",
      "305 350 10 11\n",
      "282 350 24 12\n",
      "274 350 9 12\n",
      "248 350 27 12\n",
      "185 350 10 14\n",
      "173 350 9 12\n",
      "59 348 11 14\n",
      "194 347 52 15\n",
      "143 315 5 5\n",
      "143 309 4 4\n",
      "136 309 8 11\n",
      "68 309 9 12\n",
      "76 306 61 17\n",
      "58 306 11 15\n",
      "318 296 671 40\n",
      "146 292 5 4\n",
      "146 286 5 4\n",
      "130 285 17 12\n",
      "121 285 10 14\n",
      "106 285 16 12\n",
      "98 285 9 12\n",
      "89 285 10 12\n",
      "75 285 15 12\n",
      "66 285 10 15\n",
      "58 285 10 12\n",
      "722 269 17 15\n",
      "686 269 13 15\n",
      "647 269 15 17\n",
      "636 269 12 15\n",
      "710 268 14 16\n",
      "698 268 13 19\n",
      "673 268 13 16\n",
      "661 268 13 20\n",
      "154 268 9 11\n",
      "75 268 43 14\n",
      "66 268 10 12\n",
      "218 267 9 11\n",
      "162 267 57 15\n",
      "117 267 34 12\n",
      "59 266 9 13\n",
      "739 265 9 7\n",
      "625 265 12 19\n",
      "615 265 10 7\n",
      "565 264 17 20\n",
      "549 264 17 20\n",
      "533 264 17 20\n",
      "318 253 671 41\n",
      "170 241 6 5\n",
      "100 235 12 11\n",
      "76 235 9 11\n",
      "171 234 5 5\n",
      "149 234 22 12\n",
      "124 234 26 14\n",
      "115 234 10 12\n",
      "92 234 9 15\n",
      "83 234 10 12\n",
      "57 232 21 14\n",
      "318 216 671 40\n",
      "224 183 5 4\n",
      "146 177 9 10\n",
      "138 177 9 10\n",
      "121 177 17 11\n",
      "77 177 9 11\n",
      "69 177 9 11\n",
      "224 176 5 5\n",
      "216 176 9 11\n",
      "184 176 33 11\n",
      "154 176 10 11\n",
      "86 176 36 12\n",
      "58 174 12 14\n",
      "166 173 19 14\n",
      "318 158 671 61\n",
      "169 136 5 5\n",
      "495 135 5 4\n",
      "847 132 4 5\n",
      "842 130 4 6\n",
      "169 129 4 5\n",
      "144 129 25 12\n",
      "135 129 11 13\n",
      "495 128 5 4\n",
      "847 126 5 5\n",
      "833 126 15 11\n",
      "809 126 25 15\n",
      "624 125 14 19\n",
      "611 125 14 19\n",
      "479 125 17 14\n",
      "193 120 166 32\n",
      "561 119 127 31\n",
      "553 118 4 4\n",
      "885 116 101 33\n",
      "743 96 6 5\n",
      "820 87 17 14\n",
      "808 87 13 14\n",
      "798 87 11 14\n",
      "786 87 13 14\n",
      "774 87 13 14\n",
      "735 87 9 14\n",
      "713 87 15 14\n",
      "699 87 14 14\n",
      "641 87 47 15\n",
      "630 87 13 15\n",
      "620 87 11 15\n",
      "607 87 13 15\n",
      "582 87 14 15\n",
      "561 87 16 15\n",
      "556 87 6 15\n",
      "545 87 12 15\n",
      "533 87 13 15\n",
      "520 87 13 16\n",
      "508 87 13 16\n",
      "493 87 15 16\n",
      "483 84 13 19\n",
      "755 82 19 19\n",
      "591 62 15 15\n",
      "568 62 12 15\n",
      "555 62 14 15\n",
      "543 62 13 19\n",
      "524 62 13 15\n",
      "512 62 14 15\n",
      "500 62 13 15\n",
      "488 62 14 15\n",
      "473 62 15 15\n",
      "460 62 14 16\n",
      "446 62 14 15\n",
      "439 62 10 15\n",
      "426 62 14 16\n",
      "840 61 18 14\n",
      "814 61 26 19\n",
      "796 61 13 15\n",
      "781 61 15 15\n",
      "748 61 32 15\n",
      "722 61 26 15\n",
      "709 61 14 20\n",
      "697 61 12 15\n",
      "679 61 12 15\n",
      "666 61 13 15\n",
      "654 61 12 15\n",
      "641 61 14 16\n",
      "618 61 24 20\n",
      "606 61 13 16\n",
      "579 61 12 16\n",
      "895 60 13 14\n",
      "883 60 12 14\n",
      "870 60 13 15\n",
      "857 60 14 15\n",
      "412 59 15 19\n",
      "229 58 15 16\n",
      "203 58 14 16\n",
      "190 58 14 16\n",
      "173 58 13 16\n",
      "159 58 14 16\n",
      "131 58 24 16\n",
      "103 58 28 16\n",
      "90 58 14 16\n",
      "62 58 29 16\n",
      "295 57 13 17\n",
      "282 57 13 17\n",
      "268 57 16 17\n",
      "257 57 13 17\n",
      "243 57 15 17\n",
      "216 57 15 17\n",
      "600 56 5 6\n",
      "897 55 9 7\n",
      "540 52 5 4\n",
      "545 51 4 4\n",
      "332 49 655 61\n"
     ]
    },
    {
     "data": {
      "text/plain": [
       "-1"
      ]
     },
     "execution_count": 112,
     "metadata": {},
     "output_type": "execute_result"
    }
   ],
   "source": [
    "# распознаёт большие окна\n",
    "from PIL import ImageEnhance\n",
    "# assigning an image from the source path\n",
    "img = Image.open(\"2.JPG\")\n",
    "# adding some sharpness and contrast to the image \n",
    "enhancer1 = ImageEnhance.Sharpness(img)\n",
    "enhancer2 = ImageEnhance.Contrast(img)\n",
    "img_edit = enhancer1.enhance(20.0)\n",
    "img_edit = enhancer2.enhance(1.5)\n",
    "img = np.asarray(img_edit)\n",
    "if img.shape[0] < 200: #масштабирование до размеров, помещающихся в экран на данном проекте.\n",
    "    scale_in = 200/img.shape[0]\n",
    "    img = cv2.resize(img, (int(img.shape[1] * scale_in), int(img.shape[0] * scale_in)), interpolation = cv2.INTER_AREA)\n",
    "gray = cv2.cvtColor(img, cv2.COLOR_BGR2GRAY)\n",
    "#порог отсечения фоновых пикселей. thresh - монохромное чёрно-белое изображение\n",
    "ret, thresh = cv2.threshold(gray, 100, 255, cv2.THRESH_BINARY)\n",
    "n1n = 2\n",
    "img_erode = cv2.erode(thresh, np.ones((n1n, n1n), np.uint8), iterations=1) #размытие для сглаживания контуров\n",
    "# Get contours\n",
    "contours, hierarchy = cv2.findContours(img_erode, cv2.RETR_TREE, cv2.CHAIN_APPROX_NONE)\n",
    "\n",
    "output = img.copy()\n",
    "letters = []\n",
    "for idx, contour in enumerate(contours):\n",
    "    (x, y, w, h) = cv2.boundingRect(contour)\n",
    "    if hierarchy[0][idx][3] == 0:\n",
    "        cv2.rectangle(output, (x, y), (x + w, y + h), (70, 0, 0), 1)\n",
    "        print(x, y, w, h)\n",
    "\n",
    "        letter_crop = thresh[y:y + h, x:x + w]\n",
    "        if w>300:\n",
    "            cv2.imshow(str(idx), letter_crop)\n",
    "            \n",
    "    \"\"\"            # Resize letter canvas to square\n",
    "        #size_max = max(w, h)\n",
    "        letter_square = 255 * np.ones(shape=[w+1, h+1], dtype=np.uint8)\n",
    "        print(letter_square.shape)\n",
    "        if w > h:\n",
    "                # Enlarge image top-bottom\n",
    "            y_pos = size_max//2 - h//2\n",
    "            letter_square[y_pos:y_pos + h, 0:w] = letter_crop\n",
    "        elif w < h:\n",
    "                # Enlarge image left-right\n",
    "            x_pos = size_max//2 - w//2\n",
    "            letter_square[0:h, x_pos:x_pos + w] = letter_crop\n",
    "        else:\n",
    "            letter_square = letter_crop\n",
    "            # изменяем размер к размеру изображений модели\n",
    "        print(letter_square.shape)\n",
    "        letters.append((x, w, letter_square))\"\"\"\n",
    "\n",
    "#cv2.imshow(str(6666), img_erode)\n",
    "#cv2.imshow(str(6667), output)\n",
    "cv2.waitKey(0)  "
   ]
  },
  {
   "cell_type": "code",
   "execution_count": null,
   "id": "18543450",
   "metadata": {},
   "outputs": [],
   "source": []
  }
 ],
 "metadata": {
  "kernelspec": {
   "display_name": "Python 3",
   "language": "python",
   "name": "python3"
  },
  "language_info": {
   "codemirror_mode": {
    "name": "ipython",
    "version": 3
   },
   "file_extension": ".py",
   "mimetype": "text/x-python",
   "name": "python",
   "nbconvert_exporter": "python",
   "pygments_lexer": "ipython3",
   "version": "3.8.8"
  }
 },
 "nbformat": 4,
 "nbformat_minor": 5
}
