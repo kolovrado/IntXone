{
 "cells": [
  {
   "cell_type": "code",
   "execution_count": 1,
   "id": "eea8007d",
   "metadata": {},
   "outputs": [],
   "source": [
    "import numpy as np\n",
    "from PIL import Image, ImageEnhance, ImageOps\n",
    "import cv2\n",
    "import os\n",
    "import json\n",
    "os.environ['KMP_DUPLICATE_LIB_OK']='True' #ошибка ОС на локальной машине\n",
    "import pytesseract #модуль распознавания текста\n",
    "pytesseract.pytesseract.tesseract_cmd = r'C:\\Program Files\\Tesseract-OCR\\tesseract.exe'\n",
    "tessdata_dir_config = r'--tessdata-dir \"C:\\Program Files\\Tesseract-OCR\\tessdata\"'"
   ]
  },
  {
   "cell_type": "code",
   "execution_count": 2,
   "id": "a0eb7955",
   "metadata": {},
   "outputs": [],
   "source": [
    "def enhance_im(img, en1 = 20, en2 = 1.5): # делаем изобпражение чётче\n",
    "    img = Image.fromarray(np.uint8(img))\n",
    "    enhancer1 = ImageEnhance.Sharpness(img)\n",
    "    enhancer2 = ImageEnhance.Contrast(img)\n",
    "    img_edit = enhancer1.enhance(en1)\n",
    "    img_edit = enhancer2.enhance(en2)\n",
    "    return np.asarray(img_edit)"
   ]
  },
  {
   "cell_type": "code",
   "execution_count": 3,
   "id": "c77d20aa",
   "metadata": {},
   "outputs": [],
   "source": [
    "def resize(img, scale_in): #изменяем размер изображения\n",
    "    return cv2.resize(img, (int(img.shape[1] * scale_in), int(img.shape[0] * scale_in)), interpolation = cv2.INTER_AREA)"
   ]
  },
  {
   "cell_type": "code",
   "execution_count": 4,
   "id": "08dc284c",
   "metadata": {},
   "outputs": [],
   "source": [
    "#преобразование и наполнение\n",
    "def find_fields(img, erode_size, l_o_m, field_size = 300):\n",
    "    gray = cv2.cvtColor(img, cv2.COLOR_BGR2GRAY)\n",
    "    #порог отсечения фоновых пикселей. thresh - монохромное чёрно-белое изображение\n",
    "    ret, thresh = cv2.threshold(gray, 150, 255, cv2.THRESH_BINARY)\n",
    "    img_erode = cv2.erode(thresh, np.ones((erode_size, erode_size), np.uint8), iterations=1) #размытие для сглаживания контуров\n",
    "    # находим контуры\n",
    "    contours, hierarchy = cv2.findContours(img_erode, cv2.RETR_TREE, cv2.CHAIN_APPROX_NONE)\n",
    "    output = img.copy()\n",
    "    letters = []#список слов\n",
    "    #выделяем зоны контуров\n",
    "    for idx, contour in enumerate(contours):\n",
    "        (x, y, w, h) = cv2.boundingRect(contour)\n",
    "        if hierarchy[0][idx][3] == 0:\n",
    "            cv2.rectangle(output, (x, y), (x + w, y + h), (0, 0, 0), 1)#прямоугольная зона со словом\n",
    "            letter_crop = img[y:y + h, x:x + w]\n",
    "            if eval(f'{w}{l_o_m}{field_size}') and h >15:#алгоритм цепляет горизонтальные линии, не берём их\n",
    "                letters.append((letter_crop))\n",
    "    letters.reverse()#приводим список к нормальному порядку\n",
    "    return letters"
   ]
  },
  {
   "cell_type": "code",
   "execution_count": 5,
   "id": "1afb8b8d",
   "metadata": {},
   "outputs": [],
   "source": [
    "#распознавание текста на предложенной картинкке\n",
    "def rec_text(img, curr_lang, conf = tessdata_dir_config):\n",
    "    return pytesseract.image_to_string(img, config=conf, lang= curr_lang)"
   ]
  },
  {
   "cell_type": "code",
   "execution_count": 6,
   "id": "3ce130c6",
   "metadata": {},
   "outputs": [],
   "source": [
    "#проход по всем картинкам\n",
    "def list_of_ans(fls, curr_lang, border_cut = False):\n",
    "    clear_text = []\n",
    "    for elem in fls:\n",
    "        if border_cut: #обрезаем рамку если сканируем поля\n",
    "            elem = elem[8:-8,8:-8]\n",
    "        elem = resize(elem,3)#увеличиваем картинку, лучше читается\n",
    "        elem = Image.fromarray(np.uint8(elem))\n",
    "        #лучше распознаётся текст, не примыкающий к границам изображения\n",
    "        elem = ImageOps.expand(elem, border = 50, fill = (255,255,255))\n",
    "        #отсеиваем пробелы и иные мусорные символы\n",
    "        text = [word.replace('—','') for word in rec_text(elem, curr_lang).split('\\n') if word not in [' ', '', '\\x0c']]\n",
    "        if (len(text) == 0) and (len(clear_text) < 4):#подиночные символы tesseract распознаёт по иному конфигу, проверяем поле\n",
    "            text_1 = [word for word in rec_text(elem, curr_lang, '--psm 10').split('\\n') if word not in [' ', '', '\\x0c', '_', '—']]\n",
    "            if len(' '.join(text_1)) == 1:\n",
    "                text = text_1   \n",
    "        clear_text.append(' '.join(text))\n",
    "    return clear_text"
   ]
  },
  {
   "cell_type": "code",
   "execution_count": 7,
   "id": "eba998ae",
   "metadata": {},
   "outputs": [],
   "source": [
    "#ищем и распознаём поля с текстом на каждой картинке\n",
    "def open_conv(im_path):\n",
    "    img = Image.open(im_path)\n",
    "    img = enhance_im(img)\n",
    "    big_fields = find_fields(img, 1, '>', 90 ) #заполненные поля\n",
    "    #распознаём текст\n",
    "    return list_of_ans(big_fields, 'rus', True)"
   ]
  },
  {
   "cell_type": "code",
   "execution_count": 8,
   "id": "25c06542",
   "metadata": {},
   "outputs": [],
   "source": [
    "#конвертируем в json\n",
    "def jsonify_image(filename, file_rec, file_keys):\n",
    "    voc_to_json = {}\n",
    "    for i in range(len(file_rec)):\n",
    "        voc_to_json[file_keys[i]] = file_rec[i]\n",
    "    #сохраняем json\n",
    "    with open(filename[:-4] + '.json', 'w', encoding = 'utf-8') as curr_file:\n",
    "        json.dump(voc_to_json, curr_file, ensure_ascii = False)"
   ]
  },
  {
   "cell_type": "code",
   "execution_count": 9,
   "id": "11b10824",
   "metadata": {},
   "outputs": [],
   "source": [
    "#ищем названия пунктов, номер картинки с лучшим качеством\n",
    "img = Image.open('cv/3.jpg')\n",
    "img = enhance_im(img)\n",
    "small_f = find_fields(img, 9, '<', 300 )#длинные поля нам не нужны, но цепляем дату и номера\n",
    "small_f = [small_f[i]for i in range(len(small_f)) if i not in (1,2,3,11)] #удаляем ненужные поля\n",
    "small_f[1], small_f[2] = small_f[2], small_f[1]# меняем местами в соответствии с требуемым порядком\n",
    "small_list = list_of_ans(small_f, 'rus') #распознаём пункты\n",
    "small_list = [small_list[i].replace(':', '') for i in range(len(small_list))]#удаляем двоеточия\n",
    "small_list[2] = 'номер'#знак номера по заданию меняется на слово"
   ]
  },
  {
   "cell_type": "code",
   "execution_count": 10,
   "id": "f7c7dc0e",
   "metadata": {
    "scrolled": true
   },
   "outputs": [
    {
     "name": "stdout",
     "output_type": "stream",
     "text": [
      "Well done!\n"
     ]
    }
   ],
   "source": [
    "#заполняем json\n",
    "for file in os.listdir('cv/'):\n",
    "    #открываем файл\n",
    "    curr_text = open_conv('cv/'+file)\n",
    "    #некоторые сло\n",
    "    if '.' in curr_text[3]:\n",
    "        curr_text[1:4] = curr_text[3:0:-1]\n",
    "    jsonify_image(file, curr_text, small_list)\n",
    "print('Well done!')"
   ]
  }
 ],
 "metadata": {
  "kernelspec": {
   "display_name": "Python 3",
   "language": "python",
   "name": "python3"
  },
  "language_info": {
   "codemirror_mode": {
    "name": "ipython",
    "version": 3
   },
   "file_extension": ".py",
   "mimetype": "text/x-python",
   "name": "python",
   "nbconvert_exporter": "python",
   "pygments_lexer": "ipython3",
   "version": "3.8.8"
  }
 },
 "nbformat": 4,
 "nbformat_minor": 5
}
